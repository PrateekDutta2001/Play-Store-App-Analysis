{
  "cells": [
    {
      "cell_type": "markdown",
      "source": [
        "# Play Store App Analysis - By Prateek Dutta\n",
        "#Google\n",
        "\n",
        "\n",
        "While many public datasets (on Kaggle and the like) provide Apple App Store data, there are not many counterpart datasets available for Google Play Store apps anywhere on the web. On digging deeper, I found out that iTunes App Store page deploys a nicely indexed appendix-like structure to allow for simple and easy web scraping. On the other hand, Google Play Store uses sophisticated modern-day techniques (like dynamic page load) using JQuery making scraping more challenging.\n",
        "\n",
        "This information is scraped from the Google Play Store. This app information would not be available without it.\n",
        "\n",
        "Tools & Techniques:-\n",
        "\n",
        "Python[Language]\n",
        "\n",
        "Numpy, Pandas, Matplotlib, Seaborn, Ploty Express [Libraries]\n",
        "\n",
        "Data Cleaning"
      ],
      "metadata": {
        "id": "j4CZZPBmxsin"
      },
      "id": "j4CZZPBmxsin"
    },
    {
      "cell_type": "code",
      "source": [
        "from google.colab import drive\n",
        "drive.mount('/gdrive/')\n",
        "%cd /gdrive"
      ],
      "metadata": {
        "colab": {
          "base_uri": "https://localhost:8080/"
        },
        "id": "x9-LOZ7Cwd-z",
        "outputId": "280eb0f6-e5d1-4da0-899b-66f13da2ff8b"
      },
      "id": "x9-LOZ7Cwd-z",
      "execution_count": 1,
      "outputs": [
        {
          "output_type": "stream",
          "name": "stdout",
          "text": [
            "Mounted at /gdrive/\n",
            "/gdrive\n"
          ]
        }
      ]
    },
    {
      "cell_type": "code",
      "source": [
        "ls"
      ],
      "metadata": {
        "colab": {
          "base_uri": "https://localhost:8080/"
        },
        "id": "rqk--NnIx-GZ",
        "outputId": "6f717a64-422e-40a7-a1d8-93e8a4b15eb6"
      },
      "id": "rqk--NnIx-GZ",
      "execution_count": 2,
      "outputs": [
        {
          "output_type": "stream",
          "name": "stdout",
          "text": [
            "\u001b[0m\u001b[01;34mMyDrive\u001b[0m/  \u001b[01;34mShareddrives\u001b[0m/\n"
          ]
        }
      ]
    },
    {
      "cell_type": "code",
      "source": [
        "cd/gdrive/MyDrive/Play Store App analysis/"
      ],
      "metadata": {
        "colab": {
          "base_uri": "https://localhost:8080/"
        },
        "id": "sJowXN6dyAhU",
        "outputId": "62d63a54-ef9b-4ac7-90d1-74cde4cac425"
      },
      "id": "sJowXN6dyAhU",
      "execution_count": 4,
      "outputs": [
        {
          "output_type": "stream",
          "name": "stdout",
          "text": [
            "/gdrive/MyDrive/Play Store App analysis\n"
          ]
        }
      ]
    },
    {
      "cell_type": "code",
      "source": [
        "ls"
      ],
      "metadata": {
        "colab": {
          "base_uri": "https://localhost:8080/"
        },
        "id": "_LWmBLikyBLe",
        "outputId": "00b42ed5-0300-441f-d132-a9ae5c1290fd"
      },
      "id": "_LWmBLikyBLe",
      "execution_count": 5,
      "outputs": [
        {
          "output_type": "stream",
          "name": "stdout",
          "text": [
            "googleplaystore.csv  googleplaystore_user_reviews.csv\n"
          ]
        }
      ]
    },
    {
      "cell_type": "code",
      "execution_count": 6,
      "id": "c0ca9687",
      "metadata": {
        "execution": {
          "iopub.execute_input": "2022-06-19T09:09:33.502999Z",
          "iopub.status.busy": "2022-06-19T09:09:33.502346Z",
          "iopub.status.idle": "2022-06-19T09:09:36.002941Z",
          "shell.execute_reply": "2022-06-19T09:09:36.001808Z"
        },
        "papermill": {
          "duration": 2.521773,
          "end_time": "2022-06-19T09:09:36.005956",
          "exception": false,
          "start_time": "2022-06-19T09:09:33.484183",
          "status": "completed"
        },
        "tags": [],
        "id": "c0ca9687"
      },
      "outputs": [],
      "source": [
        "import pandas as pd \n",
        "import numpy as np\n",
        "import matplotlib.pyplot as plt\n",
        "import seaborn as sns\n",
        "import plotly.express as px"
      ]
    },
    {
      "cell_type": "code",
      "execution_count": 7,
      "id": "45e53fba",
      "metadata": {
        "execution": {
          "iopub.execute_input": "2022-06-19T09:09:36.036612Z",
          "iopub.status.busy": "2022-06-19T09:09:36.036188Z",
          "iopub.status.idle": "2022-06-19T09:09:36.144726Z",
          "shell.execute_reply": "2022-06-19T09:09:36.143844Z"
        },
        "papermill": {
          "duration": 0.128381,
          "end_time": "2022-06-19T09:09:36.148632",
          "exception": false,
          "start_time": "2022-06-19T09:09:36.020251",
          "status": "completed"
        },
        "tags": [],
        "colab": {
          "base_uri": "https://localhost:8080/",
          "height": 206
        },
        "id": "45e53fba",
        "outputId": "7a9a8686-3de2-4676-eddc-969dca3a5a8e"
      },
      "outputs": [
        {
          "output_type": "execute_result",
          "data": {
            "text/plain": [
              "                                                 App        Category  Rating  \\\n",
              "0     Photo Editor & Candy Camera & Grid & ScrapBook  ART_AND_DESIGN     4.1   \n",
              "1                                Coloring book moana  ART_AND_DESIGN     3.9   \n",
              "2  U Launcher Lite – FREE Live Cool Themes, Hide ...  ART_AND_DESIGN     4.7   \n",
              "3                              Sketch - Draw & Paint  ART_AND_DESIGN     4.5   \n",
              "4              Pixel Draw - Number Art Coloring Book  ART_AND_DESIGN     4.3   \n",
              "\n",
              "  Reviews  Size     Installs  Type Price Content Rating  \\\n",
              "0     159   19M      10,000+  Free     0       Everyone   \n",
              "1     967   14M     500,000+  Free     0       Everyone   \n",
              "2   87510  8.7M   5,000,000+  Free     0       Everyone   \n",
              "3  215644   25M  50,000,000+  Free     0           Teen   \n",
              "4     967  2.8M     100,000+  Free     0       Everyone   \n",
              "\n",
              "                      Genres      Last Updated         Current Ver  \\\n",
              "0               Art & Design   January 7, 2018               1.0.0   \n",
              "1  Art & Design;Pretend Play  January 15, 2018               2.0.0   \n",
              "2               Art & Design    August 1, 2018               1.2.4   \n",
              "3               Art & Design      June 8, 2018  Varies with device   \n",
              "4    Art & Design;Creativity     June 20, 2018                 1.1   \n",
              "\n",
              "    Android Ver  \n",
              "0  4.0.3 and up  \n",
              "1  4.0.3 and up  \n",
              "2  4.0.3 and up  \n",
              "3    4.2 and up  \n",
              "4    4.4 and up  "
            ],
            "text/html": [
              "\n",
              "  <div id=\"df-e893b516-86cb-40b9-81b6-e67310a32f09\">\n",
              "    <div class=\"colab-df-container\">\n",
              "      <div>\n",
              "<style scoped>\n",
              "    .dataframe tbody tr th:only-of-type {\n",
              "        vertical-align: middle;\n",
              "    }\n",
              "\n",
              "    .dataframe tbody tr th {\n",
              "        vertical-align: top;\n",
              "    }\n",
              "\n",
              "    .dataframe thead th {\n",
              "        text-align: right;\n",
              "    }\n",
              "</style>\n",
              "<table border=\"1\" class=\"dataframe\">\n",
              "  <thead>\n",
              "    <tr style=\"text-align: right;\">\n",
              "      <th></th>\n",
              "      <th>App</th>\n",
              "      <th>Category</th>\n",
              "      <th>Rating</th>\n",
              "      <th>Reviews</th>\n",
              "      <th>Size</th>\n",
              "      <th>Installs</th>\n",
              "      <th>Type</th>\n",
              "      <th>Price</th>\n",
              "      <th>Content Rating</th>\n",
              "      <th>Genres</th>\n",
              "      <th>Last Updated</th>\n",
              "      <th>Current Ver</th>\n",
              "      <th>Android Ver</th>\n",
              "    </tr>\n",
              "  </thead>\n",
              "  <tbody>\n",
              "    <tr>\n",
              "      <th>0</th>\n",
              "      <td>Photo Editor &amp; Candy Camera &amp; Grid &amp; ScrapBook</td>\n",
              "      <td>ART_AND_DESIGN</td>\n",
              "      <td>4.1</td>\n",
              "      <td>159</td>\n",
              "      <td>19M</td>\n",
              "      <td>10,000+</td>\n",
              "      <td>Free</td>\n",
              "      <td>0</td>\n",
              "      <td>Everyone</td>\n",
              "      <td>Art &amp; Design</td>\n",
              "      <td>January 7, 2018</td>\n",
              "      <td>1.0.0</td>\n",
              "      <td>4.0.3 and up</td>\n",
              "    </tr>\n",
              "    <tr>\n",
              "      <th>1</th>\n",
              "      <td>Coloring book moana</td>\n",
              "      <td>ART_AND_DESIGN</td>\n",
              "      <td>3.9</td>\n",
              "      <td>967</td>\n",
              "      <td>14M</td>\n",
              "      <td>500,000+</td>\n",
              "      <td>Free</td>\n",
              "      <td>0</td>\n",
              "      <td>Everyone</td>\n",
              "      <td>Art &amp; Design;Pretend Play</td>\n",
              "      <td>January 15, 2018</td>\n",
              "      <td>2.0.0</td>\n",
              "      <td>4.0.3 and up</td>\n",
              "    </tr>\n",
              "    <tr>\n",
              "      <th>2</th>\n",
              "      <td>U Launcher Lite – FREE Live Cool Themes, Hide ...</td>\n",
              "      <td>ART_AND_DESIGN</td>\n",
              "      <td>4.7</td>\n",
              "      <td>87510</td>\n",
              "      <td>8.7M</td>\n",
              "      <td>5,000,000+</td>\n",
              "      <td>Free</td>\n",
              "      <td>0</td>\n",
              "      <td>Everyone</td>\n",
              "      <td>Art &amp; Design</td>\n",
              "      <td>August 1, 2018</td>\n",
              "      <td>1.2.4</td>\n",
              "      <td>4.0.3 and up</td>\n",
              "    </tr>\n",
              "    <tr>\n",
              "      <th>3</th>\n",
              "      <td>Sketch - Draw &amp; Paint</td>\n",
              "      <td>ART_AND_DESIGN</td>\n",
              "      <td>4.5</td>\n",
              "      <td>215644</td>\n",
              "      <td>25M</td>\n",
              "      <td>50,000,000+</td>\n",
              "      <td>Free</td>\n",
              "      <td>0</td>\n",
              "      <td>Teen</td>\n",
              "      <td>Art &amp; Design</td>\n",
              "      <td>June 8, 2018</td>\n",
              "      <td>Varies with device</td>\n",
              "      <td>4.2 and up</td>\n",
              "    </tr>\n",
              "    <tr>\n",
              "      <th>4</th>\n",
              "      <td>Pixel Draw - Number Art Coloring Book</td>\n",
              "      <td>ART_AND_DESIGN</td>\n",
              "      <td>4.3</td>\n",
              "      <td>967</td>\n",
              "      <td>2.8M</td>\n",
              "      <td>100,000+</td>\n",
              "      <td>Free</td>\n",
              "      <td>0</td>\n",
              "      <td>Everyone</td>\n",
              "      <td>Art &amp; Design;Creativity</td>\n",
              "      <td>June 20, 2018</td>\n",
              "      <td>1.1</td>\n",
              "      <td>4.4 and up</td>\n",
              "    </tr>\n",
              "  </tbody>\n",
              "</table>\n",
              "</div>\n",
              "      <button class=\"colab-df-convert\" onclick=\"convertToInteractive('df-e893b516-86cb-40b9-81b6-e67310a32f09')\"\n",
              "              title=\"Convert this dataframe to an interactive table.\"\n",
              "              style=\"display:none;\">\n",
              "        \n",
              "  <svg xmlns=\"http://www.w3.org/2000/svg\" height=\"24px\"viewBox=\"0 0 24 24\"\n",
              "       width=\"24px\">\n",
              "    <path d=\"M0 0h24v24H0V0z\" fill=\"none\"/>\n",
              "    <path d=\"M18.56 5.44l.94 2.06.94-2.06 2.06-.94-2.06-.94-.94-2.06-.94 2.06-2.06.94zm-11 1L8.5 8.5l.94-2.06 2.06-.94-2.06-.94L8.5 2.5l-.94 2.06-2.06.94zm10 10l.94 2.06.94-2.06 2.06-.94-2.06-.94-.94-2.06-.94 2.06-2.06.94z\"/><path d=\"M17.41 7.96l-1.37-1.37c-.4-.4-.92-.59-1.43-.59-.52 0-1.04.2-1.43.59L10.3 9.45l-7.72 7.72c-.78.78-.78 2.05 0 2.83L4 21.41c.39.39.9.59 1.41.59.51 0 1.02-.2 1.41-.59l7.78-7.78 2.81-2.81c.8-.78.8-2.07 0-2.86zM5.41 20L4 18.59l7.72-7.72 1.47 1.35L5.41 20z\"/>\n",
              "  </svg>\n",
              "      </button>\n",
              "      \n",
              "  <style>\n",
              "    .colab-df-container {\n",
              "      display:flex;\n",
              "      flex-wrap:wrap;\n",
              "      gap: 12px;\n",
              "    }\n",
              "\n",
              "    .colab-df-convert {\n",
              "      background-color: #E8F0FE;\n",
              "      border: none;\n",
              "      border-radius: 50%;\n",
              "      cursor: pointer;\n",
              "      display: none;\n",
              "      fill: #1967D2;\n",
              "      height: 32px;\n",
              "      padding: 0 0 0 0;\n",
              "      width: 32px;\n",
              "    }\n",
              "\n",
              "    .colab-df-convert:hover {\n",
              "      background-color: #E2EBFA;\n",
              "      box-shadow: 0px 1px 2px rgba(60, 64, 67, 0.3), 0px 1px 3px 1px rgba(60, 64, 67, 0.15);\n",
              "      fill: #174EA6;\n",
              "    }\n",
              "\n",
              "    [theme=dark] .colab-df-convert {\n",
              "      background-color: #3B4455;\n",
              "      fill: #D2E3FC;\n",
              "    }\n",
              "\n",
              "    [theme=dark] .colab-df-convert:hover {\n",
              "      background-color: #434B5C;\n",
              "      box-shadow: 0px 1px 3px 1px rgba(0, 0, 0, 0.15);\n",
              "      filter: drop-shadow(0px 1px 2px rgba(0, 0, 0, 0.3));\n",
              "      fill: #FFFFFF;\n",
              "    }\n",
              "  </style>\n",
              "\n",
              "      <script>\n",
              "        const buttonEl =\n",
              "          document.querySelector('#df-e893b516-86cb-40b9-81b6-e67310a32f09 button.colab-df-convert');\n",
              "        buttonEl.style.display =\n",
              "          google.colab.kernel.accessAllowed ? 'block' : 'none';\n",
              "\n",
              "        async function convertToInteractive(key) {\n",
              "          const element = document.querySelector('#df-e893b516-86cb-40b9-81b6-e67310a32f09');\n",
              "          const dataTable =\n",
              "            await google.colab.kernel.invokeFunction('convertToInteractive',\n",
              "                                                     [key], {});\n",
              "          if (!dataTable) return;\n",
              "\n",
              "          const docLinkHtml = 'Like what you see? Visit the ' +\n",
              "            '<a target=\"_blank\" href=https://colab.research.google.com/notebooks/data_table.ipynb>data table notebook</a>'\n",
              "            + ' to learn more about interactive tables.';\n",
              "          element.innerHTML = '';\n",
              "          dataTable['output_type'] = 'display_data';\n",
              "          await google.colab.output.renderOutput(dataTable, element);\n",
              "          const docLink = document.createElement('div');\n",
              "          docLink.innerHTML = docLinkHtml;\n",
              "          element.appendChild(docLink);\n",
              "        }\n",
              "      </script>\n",
              "    </div>\n",
              "  </div>\n",
              "  "
            ]
          },
          "metadata": {},
          "execution_count": 7
        }
      ],
      "source": [
        "df=pd.read_csv('googleplaystore.csv')\n",
        "df.head()"
      ]
    },
    {
      "cell_type": "code",
      "execution_count": 8,
      "id": "9d10ee2c",
      "metadata": {
        "execution": {
          "iopub.execute_input": "2022-06-19T09:09:36.181525Z",
          "iopub.status.busy": "2022-06-19T09:09:36.180868Z",
          "iopub.status.idle": "2022-06-19T09:09:36.186333Z",
          "shell.execute_reply": "2022-06-19T09:09:36.185630Z"
        },
        "papermill": {
          "duration": 0.024169,
          "end_time": "2022-06-19T09:09:36.188231",
          "exception": false,
          "start_time": "2022-06-19T09:09:36.164062",
          "status": "completed"
        },
        "tags": [],
        "colab": {
          "base_uri": "https://localhost:8080/"
        },
        "id": "9d10ee2c",
        "outputId": "e24f6c5a-e30a-4e7c-da00-d7542dd80af6"
      },
      "outputs": [
        {
          "output_type": "execute_result",
          "data": {
            "text/plain": [
              "(10841, 13)"
            ]
          },
          "metadata": {},
          "execution_count": 8
        }
      ],
      "source": [
        "df.shape"
      ]
    },
    {
      "cell_type": "code",
      "execution_count": 9,
      "id": "16055f05",
      "metadata": {
        "execution": {
          "iopub.execute_input": "2022-06-19T09:09:36.219972Z",
          "iopub.status.busy": "2022-06-19T09:09:36.219305Z",
          "iopub.status.idle": "2022-06-19T09:09:36.241474Z",
          "shell.execute_reply": "2022-06-19T09:09:36.240683Z"
        },
        "papermill": {
          "duration": 0.040284,
          "end_time": "2022-06-19T09:09:36.243406",
          "exception": false,
          "start_time": "2022-06-19T09:09:36.203122",
          "status": "completed"
        },
        "tags": [],
        "colab": {
          "base_uri": "https://localhost:8080/"
        },
        "id": "16055f05",
        "outputId": "9e120f1e-ff1e-41d1-b472-668b3bde1afe"
      },
      "outputs": [
        {
          "output_type": "execute_result",
          "data": {
            "text/plain": [
              "App                  0\n",
              "Category             0\n",
              "Rating            1474\n",
              "Reviews              0\n",
              "Size                 0\n",
              "Installs             0\n",
              "Type                 1\n",
              "Price                0\n",
              "Content Rating       1\n",
              "Genres               0\n",
              "Last Updated         0\n",
              "Current Ver          8\n",
              "Android Ver          3\n",
              "dtype: int64"
            ]
          },
          "metadata": {},
          "execution_count": 9
        }
      ],
      "source": [
        "df.isnull().sum()"
      ]
    },
    {
      "cell_type": "markdown",
      "id": "15ba13bd",
      "metadata": {
        "papermill": {
          "duration": 0.015081,
          "end_time": "2022-06-19T09:09:36.273168",
          "exception": false,
          "start_time": "2022-06-19T09:09:36.258087",
          "status": "completed"
        },
        "tags": [],
        "id": "15ba13bd"
      },
      "source": [
        "As we can observe only rating columns has more than 1000 null values other columns has 8 or 4 or 1 null values so we can drop them but  rating is important column and has so many null values so it will be a good option to fill those null values \n"
      ]
    },
    {
      "cell_type": "code",
      "execution_count": 10,
      "id": "b69ffc47",
      "metadata": {
        "execution": {
          "iopub.execute_input": "2022-06-19T09:09:36.305179Z",
          "iopub.status.busy": "2022-06-19T09:09:36.304629Z",
          "iopub.status.idle": "2022-06-19T09:09:36.807040Z",
          "shell.execute_reply": "2022-06-19T09:09:36.806089Z"
        },
        "papermill": {
          "duration": 0.52113,
          "end_time": "2022-06-19T09:09:36.809141",
          "exception": false,
          "start_time": "2022-06-19T09:09:36.288011",
          "status": "completed"
        },
        "tags": [],
        "colab": {
          "base_uri": "https://localhost:8080/",
          "height": 353
        },
        "id": "b69ffc47",
        "outputId": "8c14b8ef-fa84-4036-c981-9dde70a83fd4"
      },
      "outputs": [
        {
          "output_type": "execute_result",
          "data": {
            "text/plain": [
              "<matplotlib.axes._subplots.AxesSubplot at 0x7f0d14855610>"
            ]
          },
          "metadata": {},
          "execution_count": 10
        },
        {
          "output_type": "display_data",
          "data": {
            "text/plain": [
              "<Figure size 432x288 with 1 Axes>"
            ],
            "image/png": "[encoded data removed]"
          },
          "metadata": {
            "needs_background": "light"
          }
        }
      ],
      "source": [
        "sns.heatmap(df.isnull(),cbar=False)"
      ]
    },
    {
      "cell_type": "markdown",
      "id": "9b8fb88f",
      "metadata": {
        "papermill": {
          "duration": 0.014964,
          "end_time": "2022-06-19T09:09:36.839562",
          "exception": false,
          "start_time": "2022-06-19T09:09:36.824598",
          "status": "completed"
        },
        "tags": [],
        "id": "9b8fb88f"
      },
      "source": [
        "# Data Cleaning "
      ]
    },
    {
      "cell_type": "markdown",
      "id": "ad4b76c7",
      "metadata": {
        "papermill": {
          "duration": 0.014727,
          "end_time": "2022-06-19T09:09:36.869481",
          "exception": false,
          "start_time": "2022-06-19T09:09:36.854754",
          "status": "completed"
        },
        "tags": [],
        "id": "ad4b76c7"
      },
      "source": [
        "We will take mean of rating column and fill the mean values with null values and then round the decimal place to 1 "
      ]
    },
    {
      "cell_type": "code",
      "execution_count": 11,
      "id": "83590b67",
      "metadata": {
        "execution": {
          "iopub.execute_input": "2022-06-19T09:09:36.901955Z",
          "iopub.status.busy": "2022-06-19T09:09:36.901238Z",
          "iopub.status.idle": "2022-06-19T09:09:36.916375Z",
          "shell.execute_reply": "2022-06-19T09:09:36.915276Z"
        },
        "papermill": {
          "duration": 0.033855,
          "end_time": "2022-06-19T09:09:36.918533",
          "exception": false,
          "start_time": "2022-06-19T09:09:36.884678",
          "status": "completed"
        },
        "tags": [],
        "colab": {
          "base_uri": "https://localhost:8080/"
        },
        "id": "83590b67",
        "outputId": "45cebf2a-ec59-4a07-b81c-a5f6c3d8acdd"
      },
      "outputs": [
        {
          "output_type": "execute_result",
          "data": {
            "text/plain": [
              "1141    4.6\n",
              "8679    4.2\n",
              "6979    4.1\n",
              "231     4.7\n",
              "9925    4.2\n",
              "4110    4.2\n",
              "Name: Rating, dtype: float64"
            ]
          },
          "metadata": {},
          "execution_count": 11
        }
      ],
      "source": [
        "a=df['Rating'].mean()\n",
        "df['Rating']=df['Rating'].fillna(a)\n",
        "df['Rating']=df['Rating'].round(1)\n",
        "df['Rating'].sample(6)\n"
      ]
    },
    {
      "cell_type": "code",
      "execution_count": 12,
      "id": "2c5e5e77",
      "metadata": {
        "execution": {
          "iopub.execute_input": "2022-06-19T09:09:36.951084Z",
          "iopub.status.busy": "2022-06-19T09:09:36.950689Z",
          "iopub.status.idle": "2022-06-19T09:09:36.976708Z",
          "shell.execute_reply": "2022-06-19T09:09:36.975735Z"
        },
        "papermill": {
          "duration": 0.045094,
          "end_time": "2022-06-19T09:09:36.979018",
          "exception": false,
          "start_time": "2022-06-19T09:09:36.933924",
          "status": "completed"
        },
        "tags": [],
        "id": "2c5e5e77"
      },
      "outputs": [],
      "source": [
        "df.dropna(inplace=True)"
      ]
    },
    {
      "cell_type": "markdown",
      "id": "b82c7688",
      "metadata": {
        "papermill": {
          "duration": 0.01488,
          "end_time": "2022-06-19T09:09:37.009351",
          "exception": false,
          "start_time": "2022-06-19T09:09:36.994471",
          "status": "completed"
        },
        "tags": [],
        "id": "b82c7688"
      },
      "source": [
        "We have 482 duplicated rows we have to drop those"
      ]
    },
    {
      "cell_type": "code",
      "execution_count": 13,
      "id": "d2191c75",
      "metadata": {
        "execution": {
          "iopub.execute_input": "2022-06-19T09:09:37.042402Z",
          "iopub.status.busy": "2022-06-19T09:09:37.041952Z",
          "iopub.status.idle": "2022-06-19T09:09:37.068379Z",
          "shell.execute_reply": "2022-06-19T09:09:37.067462Z"
        },
        "papermill": {
          "duration": 0.045382,
          "end_time": "2022-06-19T09:09:37.070491",
          "exception": false,
          "start_time": "2022-06-19T09:09:37.025109",
          "status": "completed"
        },
        "tags": [],
        "colab": {
          "base_uri": "https://localhost:8080/"
        },
        "id": "d2191c75",
        "outputId": "71721e18-8dc2-4676-c937-e2c05a02e1b4"
      },
      "outputs": [
        {
          "output_type": "execute_result",
          "data": {
            "text/plain": [
              "483"
            ]
          },
          "metadata": {},
          "execution_count": 13
        }
      ],
      "source": [
        "df.duplicated().sum()"
      ]
    },
    {
      "cell_type": "code",
      "execution_count": 14,
      "id": "65e518b3",
      "metadata": {
        "execution": {
          "iopub.execute_input": "2022-06-19T09:09:37.104212Z",
          "iopub.status.busy": "2022-06-19T09:09:37.103387Z",
          "iopub.status.idle": "2022-06-19T09:09:37.126724Z",
          "shell.execute_reply": "2022-06-19T09:09:37.125903Z"
        },
        "papermill": {
          "duration": 0.043161,
          "end_time": "2022-06-19T09:09:37.129088",
          "exception": false,
          "start_time": "2022-06-19T09:09:37.085927",
          "status": "completed"
        },
        "tags": [],
        "id": "65e518b3"
      },
      "outputs": [],
      "source": [
        "df.drop_duplicates(inplace=True)"
      ]
    },
    {
      "cell_type": "markdown",
      "id": "80c1b688",
      "metadata": {
        "papermill": {
          "duration": 0.01496,
          "end_time": "2022-06-19T09:09:37.159554",
          "exception": false,
          "start_time": "2022-06-19T09:09:37.144594",
          "status": "completed"
        },
        "tags": [],
        "id": "80c1b688"
      },
      "source": [
        "Now, We will perform data cleaning in columns like Reviews,Size,Installs,Price and Ratings  also changed their dtypes  "
      ]
    },
    {
      "cell_type": "code",
      "execution_count": 15,
      "id": "491b0edb",
      "metadata": {
        "execution": {
          "iopub.execute_input": "2022-06-19T09:09:37.193122Z",
          "iopub.status.busy": "2022-06-19T09:09:37.192405Z",
          "iopub.status.idle": "2022-06-19T09:09:37.223726Z",
          "shell.execute_reply": "2022-06-19T09:09:37.222738Z"
        },
        "papermill": {
          "duration": 0.050658,
          "end_time": "2022-06-19T09:09:37.226139",
          "exception": false,
          "start_time": "2022-06-19T09:09:37.175481",
          "status": "completed"
        },
        "tags": [],
        "colab": {
          "base_uri": "https://localhost:8080/"
        },
        "id": "491b0edb",
        "outputId": "bf1d8f82-8426-45e2-fde0-98e78ca4ab55"
      },
      "outputs": [
        {
          "output_type": "stream",
          "name": "stdout",
          "text": [
            "<class 'pandas.core.frame.DataFrame'>\n",
            "Int64Index: 10346 entries, 0 to 10840\n",
            "Data columns (total 13 columns):\n",
            " #   Column          Non-Null Count  Dtype  \n",
            "---  ------          --------------  -----  \n",
            " 0   App             10346 non-null  object \n",
            " 1   Category        10346 non-null  object \n",
            " 2   Rating          10346 non-null  float64\n",
            " 3   Reviews         10346 non-null  object \n",
            " 4   Size            10346 non-null  object \n",
            " 5   Installs        10346 non-null  object \n",
            " 6   Type            10346 non-null  object \n",
            " 7   Price           10346 non-null  object \n",
            " 8   Content Rating  10346 non-null  object \n",
            " 9   Genres          10346 non-null  object \n",
            " 10  Last Updated    10346 non-null  object \n",
            " 11  Current Ver     10346 non-null  object \n",
            " 12  Android Ver     10346 non-null  object \n",
            "dtypes: float64(1), object(12)\n",
            "memory usage: 1.1+ MB\n"
          ]
        }
      ],
      "source": [
        "df.info()"
      ]
    },
    {
      "cell_type": "markdown",
      "id": "5d019762",
      "metadata": {
        "papermill": {
          "duration": 0.01509,
          "end_time": "2022-06-19T09:09:37.256928",
          "exception": false,
          "start_time": "2022-06-19T09:09:37.241838",
          "status": "completed"
        },
        "tags": [],
        "id": "5d019762"
      },
      "source": [
        "Review columns has '3.0M' text so removed it  and now i will change the dtype to int "
      ]
    },
    {
      "cell_type": "code",
      "execution_count": 16,
      "id": "b084f9ff",
      "metadata": {
        "execution": {
          "iopub.execute_input": "2022-06-19T09:09:37.289555Z",
          "iopub.status.busy": "2022-06-19T09:09:37.289130Z",
          "iopub.status.idle": "2022-06-19T09:09:37.301618Z",
          "shell.execute_reply": "2022-06-19T09:09:37.300547Z"
        },
        "papermill": {
          "duration": 0.031649,
          "end_time": "2022-06-19T09:09:37.304115",
          "exception": false,
          "start_time": "2022-06-19T09:09:37.272466",
          "status": "completed"
        },
        "tags": [],
        "id": "b084f9ff"
      },
      "outputs": [],
      "source": [
        "df=df[df['Reviews'].str.isnumeric()]"
      ]
    },
    {
      "cell_type": "code",
      "execution_count": 17,
      "id": "e8b5e8b3",
      "metadata": {
        "execution": {
          "iopub.execute_input": "2022-06-19T09:09:37.337540Z",
          "iopub.status.busy": "2022-06-19T09:09:37.336899Z",
          "iopub.status.idle": "2022-06-19T09:09:37.347139Z",
          "shell.execute_reply": "2022-06-19T09:09:37.346436Z"
        },
        "papermill": {
          "duration": 0.029619,
          "end_time": "2022-06-19T09:09:37.349346",
          "exception": false,
          "start_time": "2022-06-19T09:09:37.319727",
          "status": "completed"
        },
        "tags": [],
        "id": "e8b5e8b3"
      },
      "outputs": [],
      "source": [
        "df['Reviews']=df['Reviews'].astype('int64')"
      ]
    },
    {
      "cell_type": "markdown",
      "id": "38b117c3",
      "metadata": {
        "papermill": {
          "duration": 0.015759,
          "end_time": "2022-06-19T09:09:37.380591",
          "exception": false,
          "start_time": "2022-06-19T09:09:37.364832",
          "status": "completed"
        },
        "tags": [],
        "id": "38b117c3"
      },
      "source": [
        "I will  replace \"varies with device\" text with 10 because it was occuring most of  time and it occur before 11 so i replaced it with 10 and after that changed the dtype to float "
      ]
    },
    {
      "cell_type": "code",
      "execution_count": 18,
      "id": "e97d2b39",
      "metadata": {
        "execution": {
          "iopub.execute_input": "2022-06-19T09:09:37.413304Z",
          "iopub.status.busy": "2022-06-19T09:09:37.412893Z",
          "iopub.status.idle": "2022-06-19T09:09:37.428952Z",
          "shell.execute_reply": "2022-06-19T09:09:37.428296Z"
        },
        "papermill": {
          "duration": 0.034698,
          "end_time": "2022-06-19T09:09:37.430939",
          "exception": false,
          "start_time": "2022-06-19T09:09:37.396241",
          "status": "completed"
        },
        "tags": [],
        "id": "e97d2b39"
      },
      "outputs": [],
      "source": [
        "def get_size(size):\n",
        "    if size == 'Varies with device':\n",
        "        return 10\n",
        "    elif size.endswith('M'):\n",
        "        size = size[:-1]\n",
        "        return float(size)\n",
        "df['Size'] = df['Size'].apply(get_size)"
      ]
    },
    {
      "cell_type": "markdown",
      "id": "f6425943",
      "metadata": {
        "papermill": {
          "duration": 0.015129,
          "end_time": "2022-06-19T09:09:37.461739",
          "exception": false,
          "start_time": "2022-06-19T09:09:37.446610",
          "status": "completed"
        },
        "tags": [],
        "id": "f6425943"
      },
      "source": [
        "Install column has '+' and ', ' so removed those using regex and changed dtype to int "
      ]
    },
    {
      "cell_type": "code",
      "execution_count": 19,
      "id": "2a40aa77",
      "metadata": {
        "execution": {
          "iopub.execute_input": "2022-06-19T09:09:37.495528Z",
          "iopub.status.busy": "2022-06-19T09:09:37.495129Z",
          "iopub.status.idle": "2022-06-19T09:09:37.521711Z",
          "shell.execute_reply": "2022-06-19T09:09:37.521036Z"
        },
        "papermill": {
          "duration": 0.046304,
          "end_time": "2022-06-19T09:09:37.524116",
          "exception": false,
          "start_time": "2022-06-19T09:09:37.477812",
          "status": "completed"
        },
        "tags": [],
        "colab": {
          "base_uri": "https://localhost:8080/"
        },
        "id": "2a40aa77",
        "outputId": "330085e9-1b53-4fc9-f6c3-8a67c16a63fb"
      },
      "outputs": [
        {
          "output_type": "stream",
          "name": "stderr",
          "text": [
            "/usr/local/lib/python3.7/dist-packages/ipykernel_launcher.py:1: FutureWarning: The default value of regex will change from True to False in a future version.\n",
            "  \"\"\"Entry point for launching an IPython kernel.\n"
          ]
        }
      ],
      "source": [
        "df['Installs']=df['Installs'].str.replace(r\"[^a-zA-Z\\d\\_]+\",\"\")"
      ]
    },
    {
      "cell_type": "code",
      "execution_count": 20,
      "id": "7c817116",
      "metadata": {
        "execution": {
          "iopub.execute_input": "2022-06-19T09:09:37.559639Z",
          "iopub.status.busy": "2022-06-19T09:09:37.558533Z",
          "iopub.status.idle": "2022-06-19T09:09:37.566842Z",
          "shell.execute_reply": "2022-06-19T09:09:37.566165Z"
        },
        "papermill": {
          "duration": 0.028032,
          "end_time": "2022-06-19T09:09:37.568919",
          "exception": false,
          "start_time": "2022-06-19T09:09:37.540887",
          "status": "completed"
        },
        "tags": [],
        "id": "7c817116"
      },
      "outputs": [],
      "source": [
        "df['Installs']=df['Installs'].astype('int64')"
      ]
    },
    {
      "cell_type": "markdown",
      "id": "3aba1378",
      "metadata": {
        "papermill": {
          "duration": 0.015298,
          "end_time": "2022-06-19T09:09:37.600250",
          "exception": false,
          "start_time": "2022-06-19T09:09:37.584952",
          "status": "completed"
        },
        "tags": [],
        "id": "3aba1378"
      },
      "source": [
        "price columns has dollar  so removed it using regex then  c hnaged the dtype to float"
      ]
    },
    {
      "cell_type": "code",
      "execution_count": 21,
      "id": "b0be0363",
      "metadata": {
        "execution": {
          "iopub.execute_input": "2022-06-19T09:09:37.633756Z",
          "iopub.status.busy": "2022-06-19T09:09:37.632713Z",
          "iopub.status.idle": "2022-06-19T09:09:37.640885Z",
          "shell.execute_reply": "2022-06-19T09:09:37.640054Z"
        },
        "papermill": {
          "duration": 0.027041,
          "end_time": "2022-06-19T09:09:37.643063",
          "exception": false,
          "start_time": "2022-06-19T09:09:37.616022",
          "status": "completed"
        },
        "tags": [],
        "colab": {
          "base_uri": "https://localhost:8080/"
        },
        "id": "b0be0363",
        "outputId": "f33f8f44-74df-461e-d7fd-82b937206f7d"
      },
      "outputs": [
        {
          "output_type": "execute_result",
          "data": {
            "text/plain": [
              "array(['0', '$4.99', '$3.99', '$6.99', '$1.49', '$2.99', '$7.99', '$5.99',\n",
              "       '$3.49', '$1.99', '$9.99', '$7.49', '$0.99', '$9.00', '$5.49',\n",
              "       '$10.00', '$24.99', '$11.99', '$79.99', '$16.99', '$14.99',\n",
              "       '$1.00', '$29.99', '$12.99', '$2.49', '$10.99', '$1.50', '$19.99',\n",
              "       '$15.99', '$33.99', '$74.99', '$39.99', '$3.95', '$4.49', '$1.70',\n",
              "       '$8.99', '$2.00', '$3.88', '$25.99', '$399.99', '$17.99',\n",
              "       '$400.00', '$3.02', '$1.76', '$4.84', '$4.77', '$1.61', '$2.50',\n",
              "       '$1.59', '$6.49', '$1.29', '$5.00', '$13.99', '$299.99', '$379.99',\n",
              "       '$37.99', '$18.99', '$389.99', '$19.90', '$8.49', '$1.75',\n",
              "       '$14.00', '$4.85', '$46.99', '$109.99', '$154.99', '$3.08',\n",
              "       '$2.59', '$4.80', '$1.96', '$19.40', '$3.90', '$4.59', '$15.46',\n",
              "       '$3.04', '$4.29', '$2.60', '$3.28', '$4.60', '$28.99', '$2.95',\n",
              "       '$2.90', '$1.97', '$200.00', '$89.99', '$2.56', '$30.99', '$3.61',\n",
              "       '$394.99', '$1.26', '$1.20', '$1.04'], dtype=object)"
            ]
          },
          "metadata": {},
          "execution_count": 21
        }
      ],
      "source": [
        "df['Price'].unique()"
      ]
    },
    {
      "cell_type": "code",
      "execution_count": 22,
      "id": "8e6343d1",
      "metadata": {
        "execution": {
          "iopub.execute_input": "2022-06-19T09:09:37.676741Z",
          "iopub.status.busy": "2022-06-19T09:09:37.676351Z",
          "iopub.status.idle": "2022-06-19T09:09:37.700777Z",
          "shell.execute_reply": "2022-06-19T09:09:37.699633Z"
        },
        "papermill": {
          "duration": 0.043992,
          "end_time": "2022-06-19T09:09:37.702969",
          "exception": false,
          "start_time": "2022-06-19T09:09:37.658977",
          "status": "completed"
        },
        "tags": [],
        "id": "8e6343d1"
      },
      "outputs": [],
      "source": [
        "df['Price']=df['Price'].replace('[^0-9\\.-]','',regex=True)"
      ]
    },
    {
      "cell_type": "code",
      "execution_count": 23,
      "id": "7a8140eb",
      "metadata": {
        "execution": {
          "iopub.execute_input": "2022-06-19T09:09:37.736991Z",
          "iopub.status.busy": "2022-06-19T09:09:37.736158Z",
          "iopub.status.idle": "2022-06-19T09:09:37.744593Z",
          "shell.execute_reply": "2022-06-19T09:09:37.743691Z"
        },
        "papermill": {
          "duration": 0.027777,
          "end_time": "2022-06-19T09:09:37.746559",
          "exception": false,
          "start_time": "2022-06-19T09:09:37.718782",
          "status": "completed"
        },
        "tags": [],
        "id": "7a8140eb"
      },
      "outputs": [],
      "source": [
        "df['Price']=df['Price'].astype(float)"
      ]
    },
    {
      "cell_type": "markdown",
      "id": "91317910",
      "metadata": {
        "papermill": {
          "duration": 0.015478,
          "end_time": "2022-06-19T09:09:37.777976",
          "exception": false,
          "start_time": "2022-06-19T09:09:37.762498",
          "status": "completed"
        },
        "tags": [],
        "id": "91317910"
      },
      "source": [
        "# Cleaned dataset"
      ]
    },
    {
      "cell_type": "code",
      "execution_count": 24,
      "id": "279eda42",
      "metadata": {
        "execution": {
          "iopub.execute_input": "2022-06-19T09:09:37.811911Z",
          "iopub.status.busy": "2022-06-19T09:09:37.810870Z",
          "iopub.status.idle": "2022-06-19T09:09:37.830965Z",
          "shell.execute_reply": "2022-06-19T09:09:37.829995Z"
        },
        "papermill": {
          "duration": 0.039385,
          "end_time": "2022-06-19T09:09:37.833099",
          "exception": false,
          "start_time": "2022-06-19T09:09:37.793714",
          "status": "completed"
        },
        "tags": [],
        "colab": {
          "base_uri": "https://localhost:8080/",
          "height": 206
        },
        "id": "279eda42",
        "outputId": "cbfb806a-bbb5-4cf6-e2a7-d506670f48fd"
      },
      "outputs": [
        {
          "output_type": "execute_result",
          "data": {
            "text/plain": [
              "                                                 App        Category  Rating  \\\n",
              "0     Photo Editor & Candy Camera & Grid & ScrapBook  ART_AND_DESIGN     4.1   \n",
              "1                                Coloring book moana  ART_AND_DESIGN     3.9   \n",
              "2  U Launcher Lite – FREE Live Cool Themes, Hide ...  ART_AND_DESIGN     4.7   \n",
              "3                              Sketch - Draw & Paint  ART_AND_DESIGN     4.5   \n",
              "4              Pixel Draw - Number Art Coloring Book  ART_AND_DESIGN     4.3   \n",
              "\n",
              "   Reviews  Size  Installs  Type  Price Content Rating  \\\n",
              "0      159  19.0     10000  Free    0.0       Everyone   \n",
              "1      967  14.0    500000  Free    0.0       Everyone   \n",
              "2    87510   8.7   5000000  Free    0.0       Everyone   \n",
              "3   215644  25.0  50000000  Free    0.0           Teen   \n",
              "4      967   2.8    100000  Free    0.0       Everyone   \n",
              "\n",
              "                      Genres      Last Updated         Current Ver  \\\n",
              "0               Art & Design   January 7, 2018               1.0.0   \n",
              "1  Art & Design;Pretend Play  January 15, 2018               2.0.0   \n",
              "2               Art & Design    August 1, 2018               1.2.4   \n",
              "3               Art & Design      June 8, 2018  Varies with device   \n",
              "4    Art & Design;Creativity     June 20, 2018                 1.1   \n",
              "\n",
              "    Android Ver  \n",
              "0  4.0.3 and up  \n",
              "1  4.0.3 and up  \n",
              "2  4.0.3 and up  \n",
              "3    4.2 and up  \n",
              "4    4.4 and up  "
            ],
            "text/html": [
              "\n",
              "  <div id=\"df-0500dbad-31ec-4454-9130-fd97d0d66573\">\n",
              "    <div class=\"colab-df-container\">\n",
              "      <div>\n",
              "<style scoped>\n",
              "    .dataframe tbody tr th:only-of-type {\n",
              "        vertical-align: middle;\n",
              "    }\n",
              "\n",
              "    .dataframe tbody tr th {\n",
              "        vertical-align: top;\n",
              "    }\n",
              "\n",
              "    .dataframe thead th {\n",
              "        text-align: right;\n",
              "    }\n",
              "</style>\n",
              "<table border=\"1\" class=\"dataframe\">\n",
              "  <thead>\n",
              "    <tr style=\"text-align: right;\">\n",
              "      <th></th>\n",
              "      <th>App</th>\n",
              "      <th>Category</th>\n",
              "      <th>Rating</th>\n",
              "      <th>Reviews</th>\n",
              "      <th>Size</th>\n",
              "      <th>Installs</th>\n",
              "      <th>Type</th>\n",
              "      <th>Price</th>\n",
              "      <th>Content Rating</th>\n",
              "      <th>Genres</th>\n",
              "      <th>Last Updated</th>\n",
              "      <th>Current Ver</th>\n",
              "      <th>Android Ver</th>\n",
              "    </tr>\n",
              "  </thead>\n",
              "  <tbody>\n",
              "    <tr>\n",
              "      <th>0</th>\n",
              "      <td>Photo Editor &amp; Candy Camera &amp; Grid &amp; ScrapBook</td>\n",
              "      <td>ART_AND_DESIGN</td>\n",
              "      <td>4.1</td>\n",
              "      <td>159</td>\n",
              "      <td>19.0</td>\n",
              "      <td>10000</td>\n",
              "      <td>Free</td>\n",
              "      <td>0.0</td>\n",
              "      <td>Everyone</td>\n",
              "      <td>Art &amp; Design</td>\n",
              "      <td>January 7, 2018</td>\n",
              "      <td>1.0.0</td>\n",
              "      <td>4.0.3 and up</td>\n",
              "    </tr>\n",
              "    <tr>\n",
              "      <th>1</th>\n",
              "      <td>Coloring book moana</td>\n",
              "      <td>ART_AND_DESIGN</td>\n",
              "      <td>3.9</td>\n",
              "      <td>967</td>\n",
              "      <td>14.0</td>\n",
              "      <td>500000</td>\n",
              "      <td>Free</td>\n",
              "      <td>0.0</td>\n",
              "      <td>Everyone</td>\n",
              "      <td>Art &amp; Design;Pretend Play</td>\n",
              "      <td>January 15, 2018</td>\n",
              "      <td>2.0.0</td>\n",
              "      <td>4.0.3 and up</td>\n",
              "    </tr>\n",
              "    <tr>\n",
              "      <th>2</th>\n",
              "      <td>U Launcher Lite – FREE Live Cool Themes, Hide ...</td>\n",
              "      <td>ART_AND_DESIGN</td>\n",
              "      <td>4.7</td>\n",
              "      <td>87510</td>\n",
              "      <td>8.7</td>\n",
              "      <td>5000000</td>\n",
              "      <td>Free</td>\n",
              "      <td>0.0</td>\n",
              "      <td>Everyone</td>\n",
              "      <td>Art &amp; Design</td>\n",
              "      <td>August 1, 2018</td>\n",
              "      <td>1.2.4</td>\n",
              "      <td>4.0.3 and up</td>\n",
              "    </tr>\n",
              "    <tr>\n",
              "      <th>3</th>\n",
              "      <td>Sketch - Draw &amp; Paint</td>\n",
              "      <td>ART_AND_DESIGN</td>\n",
              "      <td>4.5</td>\n",
              "      <td>215644</td>\n",
              "      <td>25.0</td>\n",
              "      <td>50000000</td>\n",
              "      <td>Free</td>\n",
              "      <td>0.0</td>\n",
              "      <td>Teen</td>\n",
              "      <td>Art &amp; Design</td>\n",
              "      <td>June 8, 2018</td>\n",
              "      <td>Varies with device</td>\n",
              "      <td>4.2 and up</td>\n",
              "    </tr>\n",
              "    <tr>\n",
              "      <th>4</th>\n",
              "      <td>Pixel Draw - Number Art Coloring Book</td>\n",
              "      <td>ART_AND_DESIGN</td>\n",
              "      <td>4.3</td>\n",
              "      <td>967</td>\n",
              "      <td>2.8</td>\n",
              "      <td>100000</td>\n",
              "      <td>Free</td>\n",
              "      <td>0.0</td>\n",
              "      <td>Everyone</td>\n",
              "      <td>Art &amp; Design;Creativity</td>\n",
              "      <td>June 20, 2018</td>\n",
              "      <td>1.1</td>\n",
              "      <td>4.4 and up</td>\n",
              "    </tr>\n",
              "  </tbody>\n",
              "</table>\n",
              "</div>\n",
              "      <button class=\"colab-df-convert\" onclick=\"convertToInteractive('df-0500dbad-31ec-4454-9130-fd97d0d66573')\"\n",
              "              title=\"Convert this dataframe to an interactive table.\"\n",
              "              style=\"display:none;\">\n",
              "        \n",
              "  <svg xmlns=\"http://www.w3.org/2000/svg\" height=\"24px\"viewBox=\"0 0 24 24\"\n",
              "       width=\"24px\">\n",
              "    <path d=\"M0 0h24v24H0V0z\" fill=\"none\"/>\n",
              "    <path d=\"M18.56 5.44l.94 2.06.94-2.06 2.06-.94-2.06-.94-.94-2.06-.94 2.06-2.06.94zm-11 1L8.5 8.5l.94-2.06 2.06-.94-2.06-.94L8.5 2.5l-.94 2.06-2.06.94zm10 10l.94 2.06.94-2.06 2.06-.94-2.06-.94-.94-2.06-.94 2.06-2.06.94z\"/><path d=\"M17.41 7.96l-1.37-1.37c-.4-.4-.92-.59-1.43-.59-.52 0-1.04.2-1.43.59L10.3 9.45l-7.72 7.72c-.78.78-.78 2.05 0 2.83L4 21.41c.39.39.9.59 1.41.59.51 0 1.02-.2 1.41-.59l7.78-7.78 2.81-2.81c.8-.78.8-2.07 0-2.86zM5.41 20L4 18.59l7.72-7.72 1.47 1.35L5.41 20z\"/>\n",
              "  </svg>\n",
              "      </button>\n",
              "      \n",
              "  <style>\n",
              "    .colab-df-container {\n",
              "      display:flex;\n",
              "      flex-wrap:wrap;\n",
              "      gap: 12px;\n",
              "    }\n",
              "\n",
              "    .colab-df-convert {\n",
              "      background-color: #E8F0FE;\n",
              "      border: none;\n",
              "      border-radius: 50%;\n",
              "      cursor: pointer;\n",
              "      display: none;\n",
              "      fill: #1967D2;\n",
              "      height: 32px;\n",
              "      padding: 0 0 0 0;\n",
              "      width: 32px;\n",
              "    }\n",
              "\n",
              "    .colab-df-convert:hover {\n",
              "      background-color: #E2EBFA;\n",
              "      box-shadow: 0px 1px 2px rgba(60, 64, 67, 0.3), 0px 1px 3px 1px rgba(60, 64, 67, 0.15);\n",
              "      fill: #174EA6;\n",
              "    }\n",
              "\n",
              "    [theme=dark] .colab-df-convert {\n",
              "      background-color: #3B4455;\n",
              "      fill: #D2E3FC;\n",
              "    }\n",
              "\n",
              "    [theme=dark] .colab-df-convert:hover {\n",
              "      background-color: #434B5C;\n",
              "      box-shadow: 0px 1px 3px 1px rgba(0, 0, 0, 0.15);\n",
              "      filter: drop-shadow(0px 1px 2px rgba(0, 0, 0, 0.3));\n",
              "      fill: #FFFFFF;\n",
              "    }\n",
              "  </style>\n",
              "\n",
              "      <script>\n",
              "        const buttonEl =\n",
              "          document.querySelector('#df-0500dbad-31ec-4454-9130-fd97d0d66573 button.colab-df-convert');\n",
              "        buttonEl.style.display =\n",
              "          google.colab.kernel.accessAllowed ? 'block' : 'none';\n",
              "\n",
              "        async function convertToInteractive(key) {\n",
              "          const element = document.querySelector('#df-0500dbad-31ec-4454-9130-fd97d0d66573');\n",
              "          const dataTable =\n",
              "            await google.colab.kernel.invokeFunction('convertToInteractive',\n",
              "                                                     [key], {});\n",
              "          if (!dataTable) return;\n",
              "\n",
              "          const docLinkHtml = 'Like what you see? Visit the ' +\n",
              "            '<a target=\"_blank\" href=https://colab.research.google.com/notebooks/data_table.ipynb>data table notebook</a>'\n",
              "            + ' to learn more about interactive tables.';\n",
              "          element.innerHTML = '';\n",
              "          dataTable['output_type'] = 'display_data';\n",
              "          await google.colab.output.renderOutput(dataTable, element);\n",
              "          const docLink = document.createElement('div');\n",
              "          docLink.innerHTML = docLinkHtml;\n",
              "          element.appendChild(docLink);\n",
              "        }\n",
              "      </script>\n",
              "    </div>\n",
              "  </div>\n",
              "  "
            ]
          },
          "metadata": {},
          "execution_count": 24
        }
      ],
      "source": [
        "df.head()"
      ]
    },
    {
      "cell_type": "markdown",
      "id": "28bae444",
      "metadata": {
        "papermill": {
          "duration": 0.015798,
          "end_time": "2022-06-19T09:09:37.865330",
          "exception": false,
          "start_time": "2022-06-19T09:09:37.849532",
          "status": "completed"
        },
        "tags": [],
        "id": "28bae444"
      },
      "source": [
        "# Visualizations "
      ]
    },
    {
      "cell_type": "markdown",
      "id": "d8bc8892",
      "metadata": {
        "papermill": {
          "duration": 0.016181,
          "end_time": "2022-06-19T09:09:37.897519",
          "exception": false,
          "start_time": "2022-06-19T09:09:37.881338",
          "status": "completed"
        },
        "tags": [],
        "id": "d8bc8892"
      },
      "source": [
        "Free apps are more than Paid apps"
      ]
    },
    {
      "cell_type": "code",
      "execution_count": 25,
      "id": "e5fbea5d",
      "metadata": {
        "execution": {
          "iopub.execute_input": "2022-06-19T09:09:37.931615Z",
          "iopub.status.busy": "2022-06-19T09:09:37.930807Z",
          "iopub.status.idle": "2022-06-19T09:09:38.095258Z",
          "shell.execute_reply": "2022-06-19T09:09:38.094312Z"
        },
        "papermill": {
          "duration": 0.18398,
          "end_time": "2022-06-19T09:09:38.097416",
          "exception": false,
          "start_time": "2022-06-19T09:09:37.913436",
          "status": "completed"
        },
        "tags": [],
        "colab": {
          "base_uri": "https://localhost:8080/",
          "height": 297
        },
        "id": "e5fbea5d",
        "outputId": "4df9ac6f-0699-4757-c477-102873ab5018"
      },
      "outputs": [
        {
          "output_type": "display_data",
          "data": {
            "text/plain": [
              "<Figure size 432x288 with 1 Axes>"
            ],
            "image/png": "[encoded data removed]"
          },
          "metadata": {
            "needs_background": "light"
          }
        },
        {
          "output_type": "display_data",
          "data": {
            "text/plain": [
              "<Figure size 1440x1440 with 0 Axes>"
            ]
          },
          "metadata": {}
        }
      ],
      "source": [
        "df['Type'].value_counts().plot(kind='bar',color='green',width=0.5)\n",
        "fig = plt.figure(figsize = (20,20))"
      ]
    },
    {
      "cell_type": "code",
      "execution_count": 26,
      "id": "19f1c1cd",
      "metadata": {
        "execution": {
          "iopub.execute_input": "2022-06-19T09:09:38.132256Z",
          "iopub.status.busy": "2022-06-19T09:09:38.131190Z",
          "iopub.status.idle": "2022-06-19T09:09:39.724052Z",
          "shell.execute_reply": "2022-06-19T09:09:39.723264Z"
        },
        "papermill": {
          "duration": 1.61235,
          "end_time": "2022-06-19T09:09:39.726103",
          "exception": false,
          "start_time": "2022-06-19T09:09:38.113753",
          "status": "completed"
        },
        "tags": [],
        "colab": {
          "base_uri": "https://localhost:8080/",
          "height": 699
        },
        "id": "19f1c1cd",
        "outputId": "3471c727-e862-4f54-a617-7b10d595005a"
      },
      "outputs": [
        {
          "output_type": "stream",
          "name": "stderr",
          "text": [
            "/usr/local/lib/python3.7/dist-packages/seaborn/_decorators.py:43: FutureWarning: Pass the following variables as keyword args: x, y. From version 0.12, the only valid positional argument will be `data`, and passing other arguments without an explicit keyword will result in an error or misinterpretation.\n",
            "  FutureWarning\n"
          ]
        },
        {
          "output_type": "execute_result",
          "data": {
            "text/plain": [
              "<matplotlib.axes._subplots.AxesSubplot at 0x7f0d11cf3b90>"
            ]
          },
          "metadata": {},
          "execution_count": 26
        },
        {
          "output_type": "display_data",
          "data": {
            "text/plain": [
              "<Figure size 1296x576 with 1 Axes>"
            ],
            "image/png": "[encoded data removed]"
          },
          "metadata": {
            "needs_background": "light"
          }
        }
      ],
      "source": [
        "plt.subplots(figsize=(18,8))\n",
        "plt.xticks(rotation = 90)\n",
        "sns.barplot('Category','Installs', data = df)\n"
      ]
    },
    {
      "cell_type": "markdown",
      "id": "5ff6e2b9",
      "metadata": {
        "papermill": {
          "duration": 0.01728,
          "end_time": "2022-06-19T09:09:39.761718",
          "exception": false,
          "start_time": "2022-06-19T09:09:39.744438",
          "status": "completed"
        },
        "tags": [],
        "id": "5ff6e2b9"
      },
      "source": [
        "Communication category is most installed category, well  instagram,facebook,whatsapp etc and social category is second most installed category "
      ]
    },
    {
      "cell_type": "code",
      "execution_count": 27,
      "id": "73d2c190",
      "metadata": {
        "execution": {
          "iopub.execute_input": "2022-06-19T09:09:39.799551Z",
          "iopub.status.busy": "2022-06-19T09:09:39.799134Z",
          "iopub.status.idle": "2022-06-19T09:09:39.807037Z",
          "shell.execute_reply": "2022-06-19T09:09:39.806195Z"
        },
        "papermill": {
          "duration": 0.028556,
          "end_time": "2022-06-19T09:09:39.808991",
          "exception": false,
          "start_time": "2022-06-19T09:09:39.780435",
          "status": "completed"
        },
        "tags": [],
        "id": "73d2c190"
      },
      "outputs": [],
      "source": [
        "communication=df[df['Category']=='COMMUNICATION']"
      ]
    },
    {
      "cell_type": "markdown",
      "id": "731096ce",
      "metadata": {
        "papermill": {
          "duration": 0.017111,
          "end_time": "2022-06-19T09:09:39.843546",
          "exception": false,
          "start_time": "2022-06-19T09:09:39.826435",
          "status": "completed"
        },
        "tags": [],
        "id": "731096ce"
      },
      "source": [
        "Avg rating in communication category "
      ]
    },
    {
      "cell_type": "code",
      "execution_count": 28,
      "id": "8b5d06ee",
      "metadata": {
        "execution": {
          "iopub.execute_input": "2022-06-19T09:09:39.879857Z",
          "iopub.status.busy": "2022-06-19T09:09:39.879463Z",
          "iopub.status.idle": "2022-06-19T09:09:39.886919Z",
          "shell.execute_reply": "2022-06-19T09:09:39.885839Z"
        },
        "papermill": {
          "duration": 0.028523,
          "end_time": "2022-06-19T09:09:39.889371",
          "exception": false,
          "start_time": "2022-06-19T09:09:39.860848",
          "status": "completed"
        },
        "tags": [],
        "colab": {
          "base_uri": "https://localhost:8080/"
        },
        "id": "8b5d06ee",
        "outputId": "e7aa0fc6-2955-49e1-8404-9d0dbc4e4217"
      },
      "outputs": [
        {
          "output_type": "execute_result",
          "data": {
            "text/plain": [
              "4.2"
            ]
          },
          "metadata": {},
          "execution_count": 28
        }
      ],
      "source": [
        "communication['Rating'].mean().round(1)"
      ]
    },
    {
      "cell_type": "code",
      "execution_count": 29,
      "id": "e56e375a",
      "metadata": {
        "execution": {
          "iopub.execute_input": "2022-06-19T09:09:39.926648Z",
          "iopub.status.busy": "2022-06-19T09:09:39.925753Z",
          "iopub.status.idle": "2022-06-19T09:09:39.945900Z",
          "shell.execute_reply": "2022-06-19T09:09:39.944969Z"
        },
        "papermill": {
          "duration": 0.041044,
          "end_time": "2022-06-19T09:09:39.948093",
          "exception": false,
          "start_time": "2022-06-19T09:09:39.907049",
          "status": "completed"
        },
        "tags": [],
        "colab": {
          "base_uri": "https://localhost:8080/",
          "height": 206
        },
        "id": "e56e375a",
        "outputId": "e0e99cb8-d8b5-4a34-8860-f1ba9a17de27"
      },
      "outputs": [
        {
          "output_type": "execute_result",
          "data": {
            "text/plain": [
              "                                                 App        Category  Rating  \\\n",
              "0     Photo Editor & Candy Camera & Grid & ScrapBook  ART_AND_DESIGN     4.1   \n",
              "1                                Coloring book moana  ART_AND_DESIGN     3.9   \n",
              "2  U Launcher Lite – FREE Live Cool Themes, Hide ...  ART_AND_DESIGN     4.7   \n",
              "3                              Sketch - Draw & Paint  ART_AND_DESIGN     4.5   \n",
              "4              Pixel Draw - Number Art Coloring Book  ART_AND_DESIGN     4.3   \n",
              "\n",
              "   Reviews  Size  Installs  Type  Price Content Rating  \\\n",
              "0      159  19.0     10000  Free    0.0       Everyone   \n",
              "1      967  14.0    500000  Free    0.0       Everyone   \n",
              "2    87510   8.7   5000000  Free    0.0       Everyone   \n",
              "3   215644  25.0  50000000  Free    0.0           Teen   \n",
              "4      967   2.8    100000  Free    0.0       Everyone   \n",
              "\n",
              "                      Genres      Last Updated         Current Ver  \\\n",
              "0               Art & Design   January 7, 2018               1.0.0   \n",
              "1  Art & Design;Pretend Play  January 15, 2018               2.0.0   \n",
              "2               Art & Design    August 1, 2018               1.2.4   \n",
              "3               Art & Design      June 8, 2018  Varies with device   \n",
              "4    Art & Design;Creativity     June 20, 2018                 1.1   \n",
              "\n",
              "    Android Ver  \n",
              "0  4.0.3 and up  \n",
              "1  4.0.3 and up  \n",
              "2  4.0.3 and up  \n",
              "3    4.2 and up  \n",
              "4    4.4 and up  "
            ],
            "text/html": [
              "\n",
              "  <div id=\"df-fb6222e7-6712-4954-84fb-7a77a562e881\">\n",
              "    <div class=\"colab-df-container\">\n",
              "      <div>\n",
              "<style scoped>\n",
              "    .dataframe tbody tr th:only-of-type {\n",
              "        vertical-align: middle;\n",
              "    }\n",
              "\n",
              "    .dataframe tbody tr th {\n",
              "        vertical-align: top;\n",
              "    }\n",
              "\n",
              "    .dataframe thead th {\n",
              "        text-align: right;\n",
              "    }\n",
              "</style>\n",
              "<table border=\"1\" class=\"dataframe\">\n",
              "  <thead>\n",
              "    <tr style=\"text-align: right;\">\n",
              "      <th></th>\n",
              "      <th>App</th>\n",
              "      <th>Category</th>\n",
              "      <th>Rating</th>\n",
              "      <th>Reviews</th>\n",
              "      <th>Size</th>\n",
              "      <th>Installs</th>\n",
              "      <th>Type</th>\n",
              "      <th>Price</th>\n",
              "      <th>Content Rating</th>\n",
              "      <th>Genres</th>\n",
              "      <th>Last Updated</th>\n",
              "      <th>Current Ver</th>\n",
              "      <th>Android Ver</th>\n",
              "    </tr>\n",
              "  </thead>\n",
              "  <tbody>\n",
              "    <tr>\n",
              "      <th>0</th>\n",
              "      <td>Photo Editor &amp; Candy Camera &amp; Grid &amp; ScrapBook</td>\n",
              "      <td>ART_AND_DESIGN</td>\n",
              "      <td>4.1</td>\n",
              "      <td>159</td>\n",
              "      <td>19.0</td>\n",
              "      <td>10000</td>\n",
              "      <td>Free</td>\n",
              "      <td>0.0</td>\n",
              "      <td>Everyone</td>\n",
              "      <td>Art &amp; Design</td>\n",
              "      <td>January 7, 2018</td>\n",
              "      <td>1.0.0</td>\n",
              "      <td>4.0.3 and up</td>\n",
              "    </tr>\n",
              "    <tr>\n",
              "      <th>1</th>\n",
              "      <td>Coloring book moana</td>\n",
              "      <td>ART_AND_DESIGN</td>\n",
              "      <td>3.9</td>\n",
              "      <td>967</td>\n",
              "      <td>14.0</td>\n",
              "      <td>500000</td>\n",
              "      <td>Free</td>\n",
              "      <td>0.0</td>\n",
              "      <td>Everyone</td>\n",
              "      <td>Art &amp; Design;Pretend Play</td>\n",
              "      <td>January 15, 2018</td>\n",
              "      <td>2.0.0</td>\n",
              "      <td>4.0.3 and up</td>\n",
              "    </tr>\n",
              "    <tr>\n",
              "      <th>2</th>\n",
              "      <td>U Launcher Lite – FREE Live Cool Themes, Hide ...</td>\n",
              "      <td>ART_AND_DESIGN</td>\n",
              "      <td>4.7</td>\n",
              "      <td>87510</td>\n",
              "      <td>8.7</td>\n",
              "      <td>5000000</td>\n",
              "      <td>Free</td>\n",
              "      <td>0.0</td>\n",
              "      <td>Everyone</td>\n",
              "      <td>Art &amp; Design</td>\n",
              "      <td>August 1, 2018</td>\n",
              "      <td>1.2.4</td>\n",
              "      <td>4.0.3 and up</td>\n",
              "    </tr>\n",
              "    <tr>\n",
              "      <th>3</th>\n",
              "      <td>Sketch - Draw &amp; Paint</td>\n",
              "      <td>ART_AND_DESIGN</td>\n",
              "      <td>4.5</td>\n",
              "      <td>215644</td>\n",
              "      <td>25.0</td>\n",
              "      <td>50000000</td>\n",
              "      <td>Free</td>\n",
              "      <td>0.0</td>\n",
              "      <td>Teen</td>\n",
              "      <td>Art &amp; Design</td>\n",
              "      <td>June 8, 2018</td>\n",
              "      <td>Varies with device</td>\n",
              "      <td>4.2 and up</td>\n",
              "    </tr>\n",
              "    <tr>\n",
              "      <th>4</th>\n",
              "      <td>Pixel Draw - Number Art Coloring Book</td>\n",
              "      <td>ART_AND_DESIGN</td>\n",
              "      <td>4.3</td>\n",
              "      <td>967</td>\n",
              "      <td>2.8</td>\n",
              "      <td>100000</td>\n",
              "      <td>Free</td>\n",
              "      <td>0.0</td>\n",
              "      <td>Everyone</td>\n",
              "      <td>Art &amp; Design;Creativity</td>\n",
              "      <td>June 20, 2018</td>\n",
              "      <td>1.1</td>\n",
              "      <td>4.4 and up</td>\n",
              "    </tr>\n",
              "  </tbody>\n",
              "</table>\n",
              "</div>\n",
              "      <button class=\"colab-df-convert\" onclick=\"convertToInteractive('df-fb6222e7-6712-4954-84fb-7a77a562e881')\"\n",
              "              title=\"Convert this dataframe to an interactive table.\"\n",
              "              style=\"display:none;\">\n",
              "        \n",
              "  <svg xmlns=\"http://www.w3.org/2000/svg\" height=\"24px\"viewBox=\"0 0 24 24\"\n",
              "       width=\"24px\">\n",
              "    <path d=\"M0 0h24v24H0V0z\" fill=\"none\"/>\n",
              "    <path d=\"M18.56 5.44l.94 2.06.94-2.06 2.06-.94-2.06-.94-.94-2.06-.94 2.06-2.06.94zm-11 1L8.5 8.5l.94-2.06 2.06-.94-2.06-.94L8.5 2.5l-.94 2.06-2.06.94zm10 10l.94 2.06.94-2.06 2.06-.94-2.06-.94-.94-2.06-.94 2.06-2.06.94z\"/><path d=\"M17.41 7.96l-1.37-1.37c-.4-.4-.92-.59-1.43-.59-.52 0-1.04.2-1.43.59L10.3 9.45l-7.72 7.72c-.78.78-.78 2.05 0 2.83L4 21.41c.39.39.9.59 1.41.59.51 0 1.02-.2 1.41-.59l7.78-7.78 2.81-2.81c.8-.78.8-2.07 0-2.86zM5.41 20L4 18.59l7.72-7.72 1.47 1.35L5.41 20z\"/>\n",
              "  </svg>\n",
              "      </button>\n",
              "      \n",
              "  <style>\n",
              "    .colab-df-container {\n",
              "      display:flex;\n",
              "      flex-wrap:wrap;\n",
              "      gap: 12px;\n",
              "    }\n",
              "\n",
              "    .colab-df-convert {\n",
              "      background-color: #E8F0FE;\n",
              "      border: none;\n",
              "      border-radius: 50%;\n",
              "      cursor: pointer;\n",
              "      display: none;\n",
              "      fill: #1967D2;\n",
              "      height: 32px;\n",
              "      padding: 0 0 0 0;\n",
              "      width: 32px;\n",
              "    }\n",
              "\n",
              "    .colab-df-convert:hover {\n",
              "      background-color: #E2EBFA;\n",
              "      box-shadow: 0px 1px 2px rgba(60, 64, 67, 0.3), 0px 1px 3px 1px rgba(60, 64, 67, 0.15);\n",
              "      fill: #174EA6;\n",
              "    }\n",
              "\n",
              "    [theme=dark] .colab-df-convert {\n",
              "      background-color: #3B4455;\n",
              "      fill: #D2E3FC;\n",
              "    }\n",
              "\n",
              "    [theme=dark] .colab-df-convert:hover {\n",
              "      background-color: #434B5C;\n",
              "      box-shadow: 0px 1px 3px 1px rgba(0, 0, 0, 0.15);\n",
              "      filter: drop-shadow(0px 1px 2px rgba(0, 0, 0, 0.3));\n",
              "      fill: #FFFFFF;\n",
              "    }\n",
              "  </style>\n",
              "\n",
              "      <script>\n",
              "        const buttonEl =\n",
              "          document.querySelector('#df-fb6222e7-6712-4954-84fb-7a77a562e881 button.colab-df-convert');\n",
              "        buttonEl.style.display =\n",
              "          google.colab.kernel.accessAllowed ? 'block' : 'none';\n",
              "\n",
              "        async function convertToInteractive(key) {\n",
              "          const element = document.querySelector('#df-fb6222e7-6712-4954-84fb-7a77a562e881');\n",
              "          const dataTable =\n",
              "            await google.colab.kernel.invokeFunction('convertToInteractive',\n",
              "                                                     [key], {});\n",
              "          if (!dataTable) return;\n",
              "\n",
              "          const docLinkHtml = 'Like what you see? Visit the ' +\n",
              "            '<a target=\"_blank\" href=https://colab.research.google.com/notebooks/data_table.ipynb>data table notebook</a>'\n",
              "            + ' to learn more about interactive tables.';\n",
              "          element.innerHTML = '';\n",
              "          dataTable['output_type'] = 'display_data';\n",
              "          await google.colab.output.renderOutput(dataTable, element);\n",
              "          const docLink = document.createElement('div');\n",
              "          docLink.innerHTML = docLinkHtml;\n",
              "          element.appendChild(docLink);\n",
              "        }\n",
              "      </script>\n",
              "    </div>\n",
              "  </div>\n",
              "  "
            ]
          },
          "metadata": {},
          "execution_count": 29
        }
      ],
      "source": [
        "df.head()"
      ]
    },
    {
      "cell_type": "code",
      "execution_count": 30,
      "id": "b9676a12",
      "metadata": {
        "execution": {
          "iopub.execute_input": "2022-06-19T09:09:39.988141Z",
          "iopub.status.busy": "2022-06-19T09:09:39.987164Z",
          "iopub.status.idle": "2022-06-19T09:09:41.717541Z",
          "shell.execute_reply": "2022-06-19T09:09:41.716534Z"
        },
        "papermill": {
          "duration": 1.753508,
          "end_time": "2022-06-19T09:09:41.720026",
          "exception": false,
          "start_time": "2022-06-19T09:09:39.966518",
          "status": "completed"
        },
        "tags": [],
        "colab": {
          "base_uri": "https://localhost:8080/",
          "height": 699
        },
        "id": "b9676a12",
        "outputId": "f6e37083-aec8-4674-bb6f-4506fdfe8083"
      },
      "outputs": [
        {
          "output_type": "stream",
          "name": "stderr",
          "text": [
            "/usr/local/lib/python3.7/dist-packages/seaborn/_decorators.py:43: FutureWarning: Pass the following variables as keyword args: x, y. From version 0.12, the only valid positional argument will be `data`, and passing other arguments without an explicit keyword will result in an error or misinterpretation.\n",
            "  FutureWarning\n"
          ]
        },
        {
          "output_type": "execute_result",
          "data": {
            "text/plain": [
              "<matplotlib.axes._subplots.AxesSubplot at 0x7f0d115fc350>"
            ]
          },
          "metadata": {},
          "execution_count": 30
        },
        {
          "output_type": "display_data",
          "data": {
            "text/plain": [
              "<Figure size 1296x576 with 1 Axes>"
            ],
            "image/png": "[encoded data removed]"
          },
          "metadata": {
            "needs_background": "light"
          }
        }
      ],
      "source": [
        "plt.subplots(figsize=(18,8))\n",
        "plt.xticks(rotation=90)\n",
        "sns.barplot('Category','Reviews',data=df)"
      ]
    },
    {
      "cell_type": "markdown",
      "id": "9f03e020",
      "metadata": {
        "papermill": {
          "duration": 0.019261,
          "end_time": "2022-06-19T09:09:41.759260",
          "exception": false,
          "start_time": "2022-06-19T09:09:41.739999",
          "status": "completed"
        },
        "tags": [],
        "id": "9f03e020"
      },
      "source": [
        "Social has many reviewed and popular apps and communication is the second most reviewed category"
      ]
    },
    {
      "cell_type": "code",
      "execution_count": 32,
      "id": "6bd715ab",
      "metadata": {
        "execution": {
          "iopub.execute_input": "2022-06-19T09:09:41.799995Z",
          "iopub.status.busy": "2022-06-19T09:09:41.799444Z",
          "iopub.status.idle": "2022-06-19T09:09:42.325804Z",
          "shell.execute_reply": "2022-06-19T09:09:42.324728Z"
        },
        "papermill": {
          "duration": 0.5492,
          "end_time": "2022-06-19T09:09:42.328175",
          "exception": false,
          "start_time": "2022-06-19T09:09:41.778975",
          "status": "completed"
        },
        "tags": [],
        "colab": {
          "base_uri": "https://localhost:8080/",
          "height": 653
        },
        "id": "6bd715ab",
        "outputId": "d0093520-a30a-434a-a410-bbbbb06506f4"
      },
      "outputs": [
        {
          "output_type": "stream",
          "name": "stderr",
          "text": [
            "/usr/local/lib/python3.7/dist-packages/seaborn/_decorators.py:43: FutureWarning: Pass the following variables as keyword args: x, y. From version 0.12, the only valid positional argument will be `data`, and passing other arguments without an explicit keyword will result in an error or misinterpretation.\n",
            "  FutureWarning\n"
          ]
        },
        {
          "output_type": "execute_result",
          "data": {
            "text/plain": [
              "<matplotlib.axes._subplots.AxesSubplot at 0x7f0d1135a9d0>"
            ]
          },
          "metadata": {},
          "execution_count": 32
        },
        {
          "output_type": "display_data",
          "data": {
            "text/plain": [
              "<Figure size 1296x576 with 1 Axes>"
            ],
            "image/png": "[encoded data removed]"
          },
          "metadata": {
            "needs_background": "light"
          }
        }
      ],
      "source": [
        "plt.subplots(figsize=(18,8))\n",
        "plt.xticks(rotation=90)\n",
        "sns.barplot('Content Rating','Installs',data=df)"
      ]
    },
    {
      "cell_type": "markdown",
      "id": "7658b44a",
      "metadata": {
        "papermill": {
          "duration": 0.019392,
          "end_time": "2022-06-19T09:09:42.367477",
          "exception": false,
          "start_time": "2022-06-19T09:09:42.348085",
          "status": "completed"
        },
        "tags": [],
        "id": "7658b44a"
      },
      "source": [
        "Everyone and Teen are most Installed 'Content Rating' column"
      ]
    },
    {
      "cell_type": "code",
      "execution_count": 31,
      "id": "c27499d5",
      "metadata": {
        "execution": {
          "iopub.execute_input": "2022-06-19T09:09:42.416138Z",
          "iopub.status.busy": "2022-06-19T09:09:42.415106Z",
          "iopub.status.idle": "2022-06-19T09:09:43.994718Z",
          "shell.execute_reply": "2022-06-19T09:09:43.993735Z"
        },
        "papermill": {
          "duration": 1.603835,
          "end_time": "2022-06-19T09:09:43.997077",
          "exception": false,
          "start_time": "2022-06-19T09:09:42.393242",
          "status": "completed"
        },
        "tags": [],
        "colab": {
          "base_uri": "https://localhost:8080/",
          "height": 688
        },
        "id": "c27499d5",
        "outputId": "263eeb76-e120-492d-92af-9dd4c496456f"
      },
      "outputs": [
        {
          "output_type": "stream",
          "name": "stderr",
          "text": [
            "/usr/local/lib/python3.7/dist-packages/seaborn/_decorators.py:43: FutureWarning: Pass the following variables as keyword args: x, y. From version 0.12, the only valid positional argument will be `data`, and passing other arguments without an explicit keyword will result in an error or misinterpretation.\n",
            "  FutureWarning\n"
          ]
        },
        {
          "output_type": "execute_result",
          "data": {
            "text/plain": [
              "<matplotlib.axes._subplots.AxesSubplot at 0x7f0d115f7a90>"
            ]
          },
          "metadata": {},
          "execution_count": 31
        },
        {
          "output_type": "display_data",
          "data": {
            "text/plain": [
              "<Figure size 1296x576 with 1 Axes>"
            ],
            "image/png": "[encoded data removed]"
          },
          "metadata": {
            "needs_background": "light"
          }
        }
      ],
      "source": [
        "plt.subplots(figsize=(18,8))\n",
        "plt.xticks(rotation=90)\n",
        "sns.barplot('Category','Size',data=df)"
      ]
    },
    {
      "cell_type": "markdown",
      "id": "5b03c13c",
      "metadata": {
        "papermill": {
          "duration": 0.020416,
          "end_time": "2022-06-19T09:09:44.038686",
          "exception": false,
          "start_time": "2022-06-19T09:09:44.018270",
          "status": "completed"
        },
        "tags": [],
        "id": "5b03c13c"
      },
      "source": [
        "Game category has largest size apps.Family is second category which has large size apps"
      ]
    },
    {
      "cell_type": "code",
      "execution_count": 33,
      "id": "e7db60d4",
      "metadata": {
        "execution": {
          "iopub.execute_input": "2022-06-19T09:09:44.082585Z",
          "iopub.status.busy": "2022-06-19T09:09:44.081677Z",
          "iopub.status.idle": "2022-06-19T09:09:45.600919Z",
          "shell.execute_reply": "2022-06-19T09:09:45.600245Z"
        },
        "papermill": {
          "duration": 1.543304,
          "end_time": "2022-06-19T09:09:45.602940",
          "exception": false,
          "start_time": "2022-06-19T09:09:44.059636",
          "status": "completed"
        },
        "tags": [],
        "colab": {
          "base_uri": "https://localhost:8080/",
          "height": 688
        },
        "id": "e7db60d4",
        "outputId": "cfc8f6cc-f924-49ee-a463-05a839863d4c"
      },
      "outputs": [
        {
          "output_type": "stream",
          "name": "stderr",
          "text": [
            "/usr/local/lib/python3.7/dist-packages/seaborn/_decorators.py:43: FutureWarning: Pass the following variables as keyword args: x, y. From version 0.12, the only valid positional argument will be `data`, and passing other arguments without an explicit keyword will result in an error or misinterpretation.\n",
            "  FutureWarning\n"
          ]
        },
        {
          "output_type": "execute_result",
          "data": {
            "text/plain": [
              "<matplotlib.axes._subplots.AxesSubplot at 0x7f0d11286dd0>"
            ]
          },
          "metadata": {},
          "execution_count": 33
        },
        {
          "output_type": "display_data",
          "data": {
            "text/plain": [
              "<Figure size 1296x576 with 1 Axes>"
            ],
            "image/png": "[encoded data removed]"
          },
          "metadata": {
            "needs_background": "light"
          }
        }
      ],
      "source": [
        "plt.subplots(figsize=(18,8))\n",
        "plt.xticks(rotation=90)\n",
        "sns.barplot('Category','Rating',data=df)"
      ]
    },
    {
      "cell_type": "markdown",
      "id": "63c20e60",
      "metadata": {
        "papermill": {
          "duration": 0.021642,
          "end_time": "2022-06-19T09:09:45.646393",
          "exception": false,
          "start_time": "2022-06-19T09:09:45.624751",
          "status": "completed"
        },
        "tags": [],
        "id": "63c20e60"
      },
      "source": [
        "Mostly all categories are rated equally not much difference i can see "
      ]
    },
    {
      "cell_type": "markdown",
      "id": "16dc9ec3",
      "metadata": {
        "papermill": {
          "duration": 0.021064,
          "end_time": "2022-06-19T09:09:45.689499",
          "exception": false,
          "start_time": "2022-06-19T09:09:45.668435",
          "status": "completed"
        },
        "tags": [],
        "id": "16dc9ec3"
      },
      "source": [
        "Let's do some more analysis and take out some insights from the dataset "
      ]
    },
    {
      "cell_type": "markdown",
      "id": "0a6af47b",
      "metadata": {
        "papermill": {
          "duration": 0.021686,
          "end_time": "2022-06-19T09:09:45.732379",
          "exception": false,
          "start_time": "2022-06-19T09:09:45.710693",
          "status": "completed"
        },
        "tags": [],
        "id": "0a6af47b"
      },
      "source": [
        "Family category is very popular in the playstore dataset "
      ]
    },
    {
      "cell_type": "code",
      "execution_count": 34,
      "id": "37cb4e97",
      "metadata": {
        "execution": {
          "iopub.execute_input": "2022-06-19T09:09:45.777800Z",
          "iopub.status.busy": "2022-06-19T09:09:45.777030Z",
          "iopub.status.idle": "2022-06-19T09:09:46.141160Z",
          "shell.execute_reply": "2022-06-19T09:09:46.140388Z"
        },
        "papermill": {
          "duration": 0.389073,
          "end_time": "2022-06-19T09:09:46.143192",
          "exception": false,
          "start_time": "2022-06-19T09:09:45.754119",
          "status": "completed"
        },
        "tags": [],
        "colab": {
          "base_uri": "https://localhost:8080/",
          "height": 284
        },
        "id": "37cb4e97",
        "outputId": "bba377f4-3777-43d7-d239-b24e3ea5919c"
      },
      "outputs": [
        {
          "output_type": "execute_result",
          "data": {
            "text/plain": [
              "<matplotlib.axes._subplots.AxesSubplot at 0x7f0d11162350>"
            ]
          },
          "metadata": {},
          "execution_count": 34
        },
        {
          "output_type": "display_data",
          "data": {
            "text/plain": [
              "<Figure size 432x288 with 1 Axes>"
            ],
            "image/png": "[encoded data removed]"
          },
          "metadata": {
            "needs_background": "light"
          }
        }
      ],
      "source": [
        "df['Category'].value_counts().plot(kind='barh',color='RED')"
      ]
    },
    {
      "cell_type": "code",
      "execution_count": 35,
      "id": "733a5e5f",
      "metadata": {
        "execution": {
          "iopub.execute_input": "2022-06-19T09:09:46.190231Z",
          "iopub.status.busy": "2022-06-19T09:09:46.189578Z",
          "iopub.status.idle": "2022-06-19T09:09:46.196367Z",
          "shell.execute_reply": "2022-06-19T09:09:46.195621Z"
        },
        "papermill": {
          "duration": 0.032848,
          "end_time": "2022-06-19T09:09:46.198409",
          "exception": false,
          "start_time": "2022-06-19T09:09:46.165561",
          "status": "completed"
        },
        "tags": [],
        "id": "733a5e5f"
      },
      "outputs": [],
      "source": [
        "family=df[df['Category']=='FAMILY']"
      ]
    },
    {
      "cell_type": "markdown",
      "id": "871d9f7d",
      "metadata": {
        "papermill": {
          "duration": 0.0218,
          "end_time": "2022-06-19T09:09:46.242772",
          "exception": false,
          "start_time": "2022-06-19T09:09:46.220972",
          "status": "completed"
        },
        "tags": [],
        "id": "871d9f7d"
      },
      "source": [
        "Lets see most installed apps in family category "
      ]
    },
    {
      "cell_type": "code",
      "execution_count": 36,
      "id": "36f575fb",
      "metadata": {
        "execution": {
          "iopub.execute_input": "2022-06-19T09:09:46.288893Z",
          "iopub.status.busy": "2022-06-19T09:09:46.288239Z",
          "iopub.status.idle": "2022-06-19T09:09:46.301811Z",
          "shell.execute_reply": "2022-06-19T09:09:46.300978Z"
        },
        "papermill": {
          "duration": 0.038937,
          "end_time": "2022-06-19T09:09:46.303668",
          "exception": false,
          "start_time": "2022-06-19T09:09:46.264731",
          "status": "completed"
        },
        "tags": [],
        "colab": {
          "base_uri": "https://localhost:8080/",
          "height": 708
        },
        "id": "36f575fb",
        "outputId": "3309a062-4c96-4d5e-8060-f05d43507016"
      },
      "outputs": [
        {
          "output_type": "execute_result",
          "data": {
            "text/plain": [
              "      Installs                                       App Category\n",
              "0   1000000000                         Google Play Games   FAMILY\n",
              "1    500000000                            My Talking Tom   FAMILY\n",
              "2    500000000                          Candy Crush Saga   FAMILY\n",
              "3    500000000                                       Pou   FAMILY\n",
              "4    100000000                          Farm Heroes Saga   FAMILY\n",
              "5    100000000                         My Talking Angela   FAMILY\n",
              "6    100000000                           Talking Tom Cat   FAMILY\n",
              "7    100000000                          Tom Loves Angela   FAMILY\n",
              "8    100000000            Duolingo: Learn Languages Free   FAMILY\n",
              "9    100000000                              Clash Royale   FAMILY\n",
              "10   100000000                    Where's My Water? Free   FAMILY\n",
              "11   100000000                                    ROBLOX   FAMILY\n",
              "12   100000000  Minion Rush: Despicable Me Official Game   FAMILY\n",
              "13   100000000                                 Flow Free   FAMILY\n",
              "14   100000000                                    ROBLOX   FAMILY\n",
              "15   100000000                                   Hay Day   FAMILY\n",
              "16   100000000                    Cut the Rope FULL FREE   FAMILY\n",
              "17   100000000            Duolingo: Learn Languages Free   FAMILY\n",
              "18   100000000                   Plants vs. Zombies FREE   FAMILY\n",
              "19   100000000                            Clash of Clans   FAMILY\n",
              "20   100000000                             Angry Birds 2   FAMILY"
            ],
            "text/html": [
              "\n",
              "  <div id=\"df-4f6e1ce4-d231-4e7a-9a31-024b88293c8e\">\n",
              "    <div class=\"colab-df-container\">\n",
              "      <div>\n",
              "<style scoped>\n",
              "    .dataframe tbody tr th:only-of-type {\n",
              "        vertical-align: middle;\n",
              "    }\n",
              "\n",
              "    .dataframe tbody tr th {\n",
              "        vertical-align: top;\n",
              "    }\n",
              "\n",
              "    .dataframe thead th {\n",
              "        text-align: right;\n",
              "    }\n",
              "</style>\n",
              "<table border=\"1\" class=\"dataframe\">\n",
              "  <thead>\n",
              "    <tr style=\"text-align: right;\">\n",
              "      <th></th>\n",
              "      <th>Installs</th>\n",
              "      <th>App</th>\n",
              "      <th>Category</th>\n",
              "    </tr>\n",
              "  </thead>\n",
              "  <tbody>\n",
              "    <tr>\n",
              "      <th>0</th>\n",
              "      <td>1000000000</td>\n",
              "      <td>Google Play Games</td>\n",
              "      <td>FAMILY</td>\n",
              "    </tr>\n",
              "    <tr>\n",
              "      <th>1</th>\n",
              "      <td>500000000</td>\n",
              "      <td>My Talking Tom</td>\n",
              "      <td>FAMILY</td>\n",
              "    </tr>\n",
              "    <tr>\n",
              "      <th>2</th>\n",
              "      <td>500000000</td>\n",
              "      <td>Candy Crush Saga</td>\n",
              "      <td>FAMILY</td>\n",
              "    </tr>\n",
              "    <tr>\n",
              "      <th>3</th>\n",
              "      <td>500000000</td>\n",
              "      <td>Pou</td>\n",
              "      <td>FAMILY</td>\n",
              "    </tr>\n",
              "    <tr>\n",
              "      <th>4</th>\n",
              "      <td>100000000</td>\n",
              "      <td>Farm Heroes Saga</td>\n",
              "      <td>FAMILY</td>\n",
              "    </tr>\n",
              "    <tr>\n",
              "      <th>5</th>\n",
              "      <td>100000000</td>\n",
              "      <td>My Talking Angela</td>\n",
              "      <td>FAMILY</td>\n",
              "    </tr>\n",
              "    <tr>\n",
              "      <th>6</th>\n",
              "      <td>100000000</td>\n",
              "      <td>Talking Tom Cat</td>\n",
              "      <td>FAMILY</td>\n",
              "    </tr>\n",
              "    <tr>\n",
              "      <th>7</th>\n",
              "      <td>100000000</td>\n",
              "      <td>Tom Loves Angela</td>\n",
              "      <td>FAMILY</td>\n",
              "    </tr>\n",
              "    <tr>\n",
              "      <th>8</th>\n",
              "      <td>100000000</td>\n",
              "      <td>Duolingo: Learn Languages Free</td>\n",
              "      <td>FAMILY</td>\n",
              "    </tr>\n",
              "    <tr>\n",
              "      <th>9</th>\n",
              "      <td>100000000</td>\n",
              "      <td>Clash Royale</td>\n",
              "      <td>FAMILY</td>\n",
              "    </tr>\n",
              "    <tr>\n",
              "      <th>10</th>\n",
              "      <td>100000000</td>\n",
              "      <td>Where's My Water? Free</td>\n",
              "      <td>FAMILY</td>\n",
              "    </tr>\n",
              "    <tr>\n",
              "      <th>11</th>\n",
              "      <td>100000000</td>\n",
              "      <td>ROBLOX</td>\n",
              "      <td>FAMILY</td>\n",
              "    </tr>\n",
              "    <tr>\n",
              "      <th>12</th>\n",
              "      <td>100000000</td>\n",
              "      <td>Minion Rush: Despicable Me Official Game</td>\n",
              "      <td>FAMILY</td>\n",
              "    </tr>\n",
              "    <tr>\n",
              "      <th>13</th>\n",
              "      <td>100000000</td>\n",
              "      <td>Flow Free</td>\n",
              "      <td>FAMILY</td>\n",
              "    </tr>\n",
              "    <tr>\n",
              "      <th>14</th>\n",
              "      <td>100000000</td>\n",
              "      <td>ROBLOX</td>\n",
              "      <td>FAMILY</td>\n",
              "    </tr>\n",
              "    <tr>\n",
              "      <th>15</th>\n",
              "      <td>100000000</td>\n",
              "      <td>Hay Day</td>\n",
              "      <td>FAMILY</td>\n",
              "    </tr>\n",
              "    <tr>\n",
              "      <th>16</th>\n",
              "      <td>100000000</td>\n",
              "      <td>Cut the Rope FULL FREE</td>\n",
              "      <td>FAMILY</td>\n",
              "    </tr>\n",
              "    <tr>\n",
              "      <th>17</th>\n",
              "      <td>100000000</td>\n",
              "      <td>Duolingo: Learn Languages Free</td>\n",
              "      <td>FAMILY</td>\n",
              "    </tr>\n",
              "    <tr>\n",
              "      <th>18</th>\n",
              "      <td>100000000</td>\n",
              "      <td>Plants vs. Zombies FREE</td>\n",
              "      <td>FAMILY</td>\n",
              "    </tr>\n",
              "    <tr>\n",
              "      <th>19</th>\n",
              "      <td>100000000</td>\n",
              "      <td>Clash of Clans</td>\n",
              "      <td>FAMILY</td>\n",
              "    </tr>\n",
              "    <tr>\n",
              "      <th>20</th>\n",
              "      <td>100000000</td>\n",
              "      <td>Angry Birds 2</td>\n",
              "      <td>FAMILY</td>\n",
              "    </tr>\n",
              "  </tbody>\n",
              "</table>\n",
              "</div>\n",
              "      <button class=\"colab-df-convert\" onclick=\"convertToInteractive('df-4f6e1ce4-d231-4e7a-9a31-024b88293c8e')\"\n",
              "              title=\"Convert this dataframe to an interactive table.\"\n",
              "              style=\"display:none;\">\n",
              "        \n",
              "  <svg xmlns=\"http://www.w3.org/2000/svg\" height=\"24px\"viewBox=\"0 0 24 24\"\n",
              "       width=\"24px\">\n",
              "    <path d=\"M0 0h24v24H0V0z\" fill=\"none\"/>\n",
              "    <path d=\"M18.56 5.44l.94 2.06.94-2.06 2.06-.94-2.06-.94-.94-2.06-.94 2.06-2.06.94zm-11 1L8.5 8.5l.94-2.06 2.06-.94-2.06-.94L8.5 2.5l-.94 2.06-2.06.94zm10 10l.94 2.06.94-2.06 2.06-.94-2.06-.94-.94-2.06-.94 2.06-2.06.94z\"/><path d=\"M17.41 7.96l-1.37-1.37c-.4-.4-.92-.59-1.43-.59-.52 0-1.04.2-1.43.59L10.3 9.45l-7.72 7.72c-.78.78-.78 2.05 0 2.83L4 21.41c.39.39.9.59 1.41.59.51 0 1.02-.2 1.41-.59l7.78-7.78 2.81-2.81c.8-.78.8-2.07 0-2.86zM5.41 20L4 18.59l7.72-7.72 1.47 1.35L5.41 20z\"/>\n",
              "  </svg>\n",
              "      </button>\n",
              "      \n",
              "  <style>\n",
              "    .colab-df-container {\n",
              "      display:flex;\n",
              "      flex-wrap:wrap;\n",
              "      gap: 12px;\n",
              "    }\n",
              "\n",
              "    .colab-df-convert {\n",
              "      background-color: #E8F0FE;\n",
              "      border: none;\n",
              "      border-radius: 50%;\n",
              "      cursor: pointer;\n",
              "      display: none;\n",
              "      fill: #1967D2;\n",
              "      height: 32px;\n",
              "      padding: 0 0 0 0;\n",
              "      width: 32px;\n",
              "    }\n",
              "\n",
              "    .colab-df-convert:hover {\n",
              "      background-color: #E2EBFA;\n",
              "      box-shadow: 0px 1px 2px rgba(60, 64, 67, 0.3), 0px 1px 3px 1px rgba(60, 64, 67, 0.15);\n",
              "      fill: #174EA6;\n",
              "    }\n",
              "\n",
              "    [theme=dark] .colab-df-convert {\n",
              "      background-color: #3B4455;\n",
              "      fill: #D2E3FC;\n",
              "    }\n",
              "\n",
              "    [theme=dark] .colab-df-convert:hover {\n",
              "      background-color: #434B5C;\n",
              "      box-shadow: 0px 1px 3px 1px rgba(0, 0, 0, 0.15);\n",
              "      filter: drop-shadow(0px 1px 2px rgba(0, 0, 0, 0.3));\n",
              "      fill: #FFFFFF;\n",
              "    }\n",
              "  </style>\n",
              "\n",
              "      <script>\n",
              "        const buttonEl =\n",
              "          document.querySelector('#df-4f6e1ce4-d231-4e7a-9a31-024b88293c8e button.colab-df-convert');\n",
              "        buttonEl.style.display =\n",
              "          google.colab.kernel.accessAllowed ? 'block' : 'none';\n",
              "\n",
              "        async function convertToInteractive(key) {\n",
              "          const element = document.querySelector('#df-4f6e1ce4-d231-4e7a-9a31-024b88293c8e');\n",
              "          const dataTable =\n",
              "            await google.colab.kernel.invokeFunction('convertToInteractive',\n",
              "                                                     [key], {});\n",
              "          if (!dataTable) return;\n",
              "\n",
              "          const docLinkHtml = 'Like what you see? Visit the ' +\n",
              "            '<a target=\"_blank\" href=https://colab.research.google.com/notebooks/data_table.ipynb>data table notebook</a>'\n",
              "            + ' to learn more about interactive tables.';\n",
              "          element.innerHTML = '';\n",
              "          dataTable['output_type'] = 'display_data';\n",
              "          await google.colab.output.renderOutput(dataTable, element);\n",
              "          const docLink = document.createElement('div');\n",
              "          docLink.innerHTML = docLinkHtml;\n",
              "          element.appendChild(docLink);\n",
              "        }\n",
              "      </script>\n",
              "    </div>\n",
              "  </div>\n",
              "  "
            ]
          },
          "metadata": {},
          "execution_count": 36
        }
      ],
      "source": [
        "family[['Installs','App','Category']].sort_values(by='Installs',ascending=False).head(21).reset_index(drop=True)"
      ]
    },
    {
      "cell_type": "markdown",
      "id": "f81e9dd0",
      "metadata": {
        "papermill": {
          "duration": 0.02208,
          "end_time": "2022-06-19T09:09:46.348008",
          "exception": false,
          "start_time": "2022-06-19T09:09:46.325928",
          "status": "completed"
        },
        "tags": [],
        "id": "f81e9dd0"
      },
      "source": [
        "After \"family\", \"game\" is the most popular category"
      ]
    },
    {
      "cell_type": "code",
      "execution_count": 37,
      "id": "4532ee14",
      "metadata": {
        "execution": {
          "iopub.execute_input": "2022-06-19T09:09:46.395772Z",
          "iopub.status.busy": "2022-06-19T09:09:46.395107Z",
          "iopub.status.idle": "2022-06-19T09:09:46.401708Z",
          "shell.execute_reply": "2022-06-19T09:09:46.400996Z"
        },
        "papermill": {
          "duration": 0.032801,
          "end_time": "2022-06-19T09:09:46.403619",
          "exception": false,
          "start_time": "2022-06-19T09:09:46.370818",
          "status": "completed"
        },
        "tags": [],
        "id": "4532ee14"
      },
      "outputs": [],
      "source": [
        "game=df[df['Category']=='GAME']"
      ]
    },
    {
      "cell_type": "markdown",
      "id": "200748e7",
      "metadata": {
        "papermill": {
          "duration": 0.022074,
          "end_time": "2022-06-19T09:09:46.448101",
          "exception": false,
          "start_time": "2022-06-19T09:09:46.426027",
          "status": "completed"
        },
        "tags": [],
        "id": "200748e7"
      },
      "source": [
        "Most Installed games in game category"
      ]
    },
    {
      "cell_type": "code",
      "execution_count": 38,
      "id": "343b3a8a",
      "metadata": {
        "execution": {
          "iopub.execute_input": "2022-06-19T09:09:46.495576Z",
          "iopub.status.busy": "2022-06-19T09:09:46.494916Z",
          "iopub.status.idle": "2022-06-19T09:09:46.509506Z",
          "shell.execute_reply": "2022-06-19T09:09:46.508879Z"
        },
        "papermill": {
          "duration": 0.040792,
          "end_time": "2022-06-19T09:09:46.511275",
          "exception": false,
          "start_time": "2022-06-19T09:09:46.470483",
          "status": "completed"
        },
        "tags": [],
        "colab": {
          "base_uri": "https://localhost:8080/",
          "height": 676
        },
        "id": "343b3a8a",
        "outputId": "0f74338e-ffc2-4534-eae5-0f62147ad16d"
      },
      "outputs": [
        {
          "output_type": "execute_result",
          "data": {
            "text/plain": [
              "                                                 App    Installs Category\n",
              "0                                     Subway Surfers  1000000000     GAME\n",
              "1                                                Pou   500000000     GAME\n",
              "2                                       Temple Run 2   500000000     GAME\n",
              "3                                     My Talking Tom   500000000     GAME\n",
              "4                                   Candy Crush Saga   500000000     GAME\n",
              "5                                          Flow Free   100000000     GAME\n",
              "6   Sniper 3D Gun Shooter: Free Shooting Games - FPS   100000000     GAME\n",
              "7                                  Hill Climb Racing   100000000     GAME\n",
              "8                                    Angry Birds Rio   100000000     GAME\n",
              "9                               Talking Tom Gold Run   100000000     GAME\n",
              "10                                 My Talking Angela   100000000     GAME\n",
              "11                                     Cooking Fever   100000000     GAME\n",
              "12                                           Yes day   100000000     GAME\n",
              "13                                       Score! Hero   100000000     GAME\n",
              "14                             Angry Birds Star Wars   100000000     GAME\n",
              "15                          Dream League Soccer 2018   100000000     GAME\n",
              "16                               Angry Birds Classic   100000000     GAME\n",
              "17                                        slither.io   100000000     GAME\n",
              "18                                      Clash Royale   100000000     GAME\n",
              "19                           Plants vs. Zombies FREE   100000000     GAME"
            ],
            "text/html": [
              "\n",
              "  <div id=\"df-855270d5-8eee-4b1d-9869-c44ff21baf31\">\n",
              "    <div class=\"colab-df-container\">\n",
              "      <div>\n",
              "<style scoped>\n",
              "    .dataframe tbody tr th:only-of-type {\n",
              "        vertical-align: middle;\n",
              "    }\n",
              "\n",
              "    .dataframe tbody tr th {\n",
              "        vertical-align: top;\n",
              "    }\n",
              "\n",
              "    .dataframe thead th {\n",
              "        text-align: right;\n",
              "    }\n",
              "</style>\n",
              "<table border=\"1\" class=\"dataframe\">\n",
              "  <thead>\n",
              "    <tr style=\"text-align: right;\">\n",
              "      <th></th>\n",
              "      <th>App</th>\n",
              "      <th>Installs</th>\n",
              "      <th>Category</th>\n",
              "    </tr>\n",
              "  </thead>\n",
              "  <tbody>\n",
              "    <tr>\n",
              "      <th>0</th>\n",
              "      <td>Subway Surfers</td>\n",
              "      <td>1000000000</td>\n",
              "      <td>GAME</td>\n",
              "    </tr>\n",
              "    <tr>\n",
              "      <th>1</th>\n",
              "      <td>Pou</td>\n",
              "      <td>500000000</td>\n",
              "      <td>GAME</td>\n",
              "    </tr>\n",
              "    <tr>\n",
              "      <th>2</th>\n",
              "      <td>Temple Run 2</td>\n",
              "      <td>500000000</td>\n",
              "      <td>GAME</td>\n",
              "    </tr>\n",
              "    <tr>\n",
              "      <th>3</th>\n",
              "      <td>My Talking Tom</td>\n",
              "      <td>500000000</td>\n",
              "      <td>GAME</td>\n",
              "    </tr>\n",
              "    <tr>\n",
              "      <th>4</th>\n",
              "      <td>Candy Crush Saga</td>\n",
              "      <td>500000000</td>\n",
              "      <td>GAME</td>\n",
              "    </tr>\n",
              "    <tr>\n",
              "      <th>5</th>\n",
              "      <td>Flow Free</td>\n",
              "      <td>100000000</td>\n",
              "      <td>GAME</td>\n",
              "    </tr>\n",
              "    <tr>\n",
              "      <th>6</th>\n",
              "      <td>Sniper 3D Gun Shooter: Free Shooting Games - FPS</td>\n",
              "      <td>100000000</td>\n",
              "      <td>GAME</td>\n",
              "    </tr>\n",
              "    <tr>\n",
              "      <th>7</th>\n",
              "      <td>Hill Climb Racing</td>\n",
              "      <td>100000000</td>\n",
              "      <td>GAME</td>\n",
              "    </tr>\n",
              "    <tr>\n",
              "      <th>8</th>\n",
              "      <td>Angry Birds Rio</td>\n",
              "      <td>100000000</td>\n",
              "      <td>GAME</td>\n",
              "    </tr>\n",
              "    <tr>\n",
              "      <th>9</th>\n",
              "      <td>Talking Tom Gold Run</td>\n",
              "      <td>100000000</td>\n",
              "      <td>GAME</td>\n",
              "    </tr>\n",
              "    <tr>\n",
              "      <th>10</th>\n",
              "      <td>My Talking Angela</td>\n",
              "      <td>100000000</td>\n",
              "      <td>GAME</td>\n",
              "    </tr>\n",
              "    <tr>\n",
              "      <th>11</th>\n",
              "      <td>Cooking Fever</td>\n",
              "      <td>100000000</td>\n",
              "      <td>GAME</td>\n",
              "    </tr>\n",
              "    <tr>\n",
              "      <th>12</th>\n",
              "      <td>Yes day</td>\n",
              "      <td>100000000</td>\n",
              "      <td>GAME</td>\n",
              "    </tr>\n",
              "    <tr>\n",
              "      <th>13</th>\n",
              "      <td>Score! Hero</td>\n",
              "      <td>100000000</td>\n",
              "      <td>GAME</td>\n",
              "    </tr>\n",
              "    <tr>\n",
              "      <th>14</th>\n",
              "      <td>Angry Birds Star Wars</td>\n",
              "      <td>100000000</td>\n",
              "      <td>GAME</td>\n",
              "    </tr>\n",
              "    <tr>\n",
              "      <th>15</th>\n",
              "      <td>Dream League Soccer 2018</td>\n",
              "      <td>100000000</td>\n",
              "      <td>GAME</td>\n",
              "    </tr>\n",
              "    <tr>\n",
              "      <th>16</th>\n",
              "      <td>Angry Birds Classic</td>\n",
              "      <td>100000000</td>\n",
              "      <td>GAME</td>\n",
              "    </tr>\n",
              "    <tr>\n",
              "      <th>17</th>\n",
              "      <td>slither.io</td>\n",
              "      <td>100000000</td>\n",
              "      <td>GAME</td>\n",
              "    </tr>\n",
              "    <tr>\n",
              "      <th>18</th>\n",
              "      <td>Clash Royale</td>\n",
              "      <td>100000000</td>\n",
              "      <td>GAME</td>\n",
              "    </tr>\n",
              "    <tr>\n",
              "      <th>19</th>\n",
              "      <td>Plants vs. Zombies FREE</td>\n",
              "      <td>100000000</td>\n",
              "      <td>GAME</td>\n",
              "    </tr>\n",
              "  </tbody>\n",
              "</table>\n",
              "</div>\n",
              "      <button class=\"colab-df-convert\" onclick=\"convertToInteractive('df-855270d5-8eee-4b1d-9869-c44ff21baf31')\"\n",
              "              title=\"Convert this dataframe to an interactive table.\"\n",
              "              style=\"display:none;\">\n",
              "        \n",
              "  <svg xmlns=\"http://www.w3.org/2000/svg\" height=\"24px\"viewBox=\"0 0 24 24\"\n",
              "       width=\"24px\">\n",
              "    <path d=\"M0 0h24v24H0V0z\" fill=\"none\"/>\n",
              "    <path d=\"M18.56 5.44l.94 2.06.94-2.06 2.06-.94-2.06-.94-.94-2.06-.94 2.06-2.06.94zm-11 1L8.5 8.5l.94-2.06 2.06-.94-2.06-.94L8.5 2.5l-.94 2.06-2.06.94zm10 10l.94 2.06.94-2.06 2.06-.94-2.06-.94-.94-2.06-.94 2.06-2.06.94z\"/><path d=\"M17.41 7.96l-1.37-1.37c-.4-.4-.92-.59-1.43-.59-.52 0-1.04.2-1.43.59L10.3 9.45l-7.72 7.72c-.78.78-.78 2.05 0 2.83L4 21.41c.39.39.9.59 1.41.59.51 0 1.02-.2 1.41-.59l7.78-7.78 2.81-2.81c.8-.78.8-2.07 0-2.86zM5.41 20L4 18.59l7.72-7.72 1.47 1.35L5.41 20z\"/>\n",
              "  </svg>\n",
              "      </button>\n",
              "      \n",
              "  <style>\n",
              "    .colab-df-container {\n",
              "      display:flex;\n",
              "      flex-wrap:wrap;\n",
              "      gap: 12px;\n",
              "    }\n",
              "\n",
              "    .colab-df-convert {\n",
              "      background-color: #E8F0FE;\n",
              "      border: none;\n",
              "      border-radius: 50%;\n",
              "      cursor: pointer;\n",
              "      display: none;\n",
              "      fill: #1967D2;\n",
              "      height: 32px;\n",
              "      padding: 0 0 0 0;\n",
              "      width: 32px;\n",
              "    }\n",
              "\n",
              "    .colab-df-convert:hover {\n",
              "      background-color: #E2EBFA;\n",
              "      box-shadow: 0px 1px 2px rgba(60, 64, 67, 0.3), 0px 1px 3px 1px rgba(60, 64, 67, 0.15);\n",
              "      fill: #174EA6;\n",
              "    }\n",
              "\n",
              "    [theme=dark] .colab-df-convert {\n",
              "      background-color: #3B4455;\n",
              "      fill: #D2E3FC;\n",
              "    }\n",
              "\n",
              "    [theme=dark] .colab-df-convert:hover {\n",
              "      background-color: #434B5C;\n",
              "      box-shadow: 0px 1px 3px 1px rgba(0, 0, 0, 0.15);\n",
              "      filter: drop-shadow(0px 1px 2px rgba(0, 0, 0, 0.3));\n",
              "      fill: #FFFFFF;\n",
              "    }\n",
              "  </style>\n",
              "\n",
              "      <script>\n",
              "        const buttonEl =\n",
              "          document.querySelector('#df-855270d5-8eee-4b1d-9869-c44ff21baf31 button.colab-df-convert');\n",
              "        buttonEl.style.display =\n",
              "          google.colab.kernel.accessAllowed ? 'block' : 'none';\n",
              "\n",
              "        async function convertToInteractive(key) {\n",
              "          const element = document.querySelector('#df-855270d5-8eee-4b1d-9869-c44ff21baf31');\n",
              "          const dataTable =\n",
              "            await google.colab.kernel.invokeFunction('convertToInteractive',\n",
              "                                                     [key], {});\n",
              "          if (!dataTable) return;\n",
              "\n",
              "          const docLinkHtml = 'Like what you see? Visit the ' +\n",
              "            '<a target=\"_blank\" href=https://colab.research.google.com/notebooks/data_table.ipynb>data table notebook</a>'\n",
              "            + ' to learn more about interactive tables.';\n",
              "          element.innerHTML = '';\n",
              "          dataTable['output_type'] = 'display_data';\n",
              "          await google.colab.output.renderOutput(dataTable, element);\n",
              "          const docLink = document.createElement('div');\n",
              "          docLink.innerHTML = docLinkHtml;\n",
              "          element.appendChild(docLink);\n",
              "        }\n",
              "      </script>\n",
              "    </div>\n",
              "  </div>\n",
              "  "
            ]
          },
          "metadata": {},
          "execution_count": 38
        }
      ],
      "source": [
        "game[['App','Installs','Category']].sort_values(by='Installs',ascending=False).drop_duplicates().head(20).reset_index(drop=True)"
      ]
    },
    {
      "cell_type": "markdown",
      "id": "e5c075e6",
      "metadata": {
        "papermill": {
          "duration": 0.024012,
          "end_time": "2022-06-19T09:09:46.558005",
          "exception": false,
          "start_time": "2022-06-19T09:09:46.533993",
          "status": "completed"
        },
        "tags": [],
        "id": "e5c075e6"
      },
      "source": [
        "Most Installed Apps "
      ]
    },
    {
      "cell_type": "code",
      "execution_count": 39,
      "id": "0ad43385",
      "metadata": {
        "execution": {
          "iopub.execute_input": "2022-06-19T09:09:46.605581Z",
          "iopub.status.busy": "2022-06-19T09:09:46.605015Z",
          "iopub.status.idle": "2022-06-19T09:09:46.620044Z",
          "shell.execute_reply": "2022-06-19T09:09:46.619355Z"
        },
        "papermill": {
          "duration": 0.041153,
          "end_time": "2022-06-19T09:09:46.621987",
          "exception": false,
          "start_time": "2022-06-19T09:09:46.580834",
          "status": "completed"
        },
        "tags": [],
        "colab": {
          "base_uri": "https://localhost:8080/",
          "height": 363
        },
        "id": "0ad43385",
        "outputId": "668aaf98-04cc-424a-fd9f-9615bb5a2413"
      },
      "outputs": [
        {
          "output_type": "execute_result",
          "data": {
            "text/plain": [
              "                          App    Installs            Category\n",
              "0          WhatsApp Messenger  1000000000       COMMUNICATION\n",
              "1                     Google+  1000000000              SOCIAL\n",
              "2          Google Street View  1000000000    TRAVEL_AND_LOCAL\n",
              "3                 Google News  1000000000  NEWS_AND_MAGAZINES\n",
              "4   Maps - Navigate & Explore  1000000000    TRAVEL_AND_LOCAL\n",
              "5                   Instagram  1000000000              SOCIAL\n",
              "6                    Facebook  1000000000              SOCIAL\n",
              "7           Google Play Games  1000000000       ENTERTAINMENT\n",
              "8                      Google  1000000000               TOOLS\n",
              "10                      Gmail  1000000000       COMMUNICATION"
            ],
            "text/html": [
              "\n",
              "  <div id=\"df-61a2043a-5369-4ee8-8981-21a1f2674c37\">\n",
              "    <div class=\"colab-df-container\">\n",
              "      <div>\n",
              "<style scoped>\n",
              "    .dataframe tbody tr th:only-of-type {\n",
              "        vertical-align: middle;\n",
              "    }\n",
              "\n",
              "    .dataframe tbody tr th {\n",
              "        vertical-align: top;\n",
              "    }\n",
              "\n",
              "    .dataframe thead th {\n",
              "        text-align: right;\n",
              "    }\n",
              "</style>\n",
              "<table border=\"1\" class=\"dataframe\">\n",
              "  <thead>\n",
              "    <tr style=\"text-align: right;\">\n",
              "      <th></th>\n",
              "      <th>App</th>\n",
              "      <th>Installs</th>\n",
              "      <th>Category</th>\n",
              "    </tr>\n",
              "  </thead>\n",
              "  <tbody>\n",
              "    <tr>\n",
              "      <th>0</th>\n",
              "      <td>WhatsApp Messenger</td>\n",
              "      <td>1000000000</td>\n",
              "      <td>COMMUNICATION</td>\n",
              "    </tr>\n",
              "    <tr>\n",
              "      <th>1</th>\n",
              "      <td>Google+</td>\n",
              "      <td>1000000000</td>\n",
              "      <td>SOCIAL</td>\n",
              "    </tr>\n",
              "    <tr>\n",
              "      <th>2</th>\n",
              "      <td>Google Street View</td>\n",
              "      <td>1000000000</td>\n",
              "      <td>TRAVEL_AND_LOCAL</td>\n",
              "    </tr>\n",
              "    <tr>\n",
              "      <th>3</th>\n",
              "      <td>Google News</td>\n",
              "      <td>1000000000</td>\n",
              "      <td>NEWS_AND_MAGAZINES</td>\n",
              "    </tr>\n",
              "    <tr>\n",
              "      <th>4</th>\n",
              "      <td>Maps - Navigate &amp; Explore</td>\n",
              "      <td>1000000000</td>\n",
              "      <td>TRAVEL_AND_LOCAL</td>\n",
              "    </tr>\n",
              "    <tr>\n",
              "      <th>5</th>\n",
              "      <td>Instagram</td>\n",
              "      <td>1000000000</td>\n",
              "      <td>SOCIAL</td>\n",
              "    </tr>\n",
              "    <tr>\n",
              "      <th>6</th>\n",
              "      <td>Facebook</td>\n",
              "      <td>1000000000</td>\n",
              "      <td>SOCIAL</td>\n",
              "    </tr>\n",
              "    <tr>\n",
              "      <th>7</th>\n",
              "      <td>Google Play Games</td>\n",
              "      <td>1000000000</td>\n",
              "      <td>ENTERTAINMENT</td>\n",
              "    </tr>\n",
              "    <tr>\n",
              "      <th>8</th>\n",
              "      <td>Google</td>\n",
              "      <td>1000000000</td>\n",
              "      <td>TOOLS</td>\n",
              "    </tr>\n",
              "    <tr>\n",
              "      <th>10</th>\n",
              "      <td>Gmail</td>\n",
              "      <td>1000000000</td>\n",
              "      <td>COMMUNICATION</td>\n",
              "    </tr>\n",
              "  </tbody>\n",
              "</table>\n",
              "</div>\n",
              "      <button class=\"colab-df-convert\" onclick=\"convertToInteractive('df-61a2043a-5369-4ee8-8981-21a1f2674c37')\"\n",
              "              title=\"Convert this dataframe to an interactive table.\"\n",
              "              style=\"display:none;\">\n",
              "        \n",
              "  <svg xmlns=\"http://www.w3.org/2000/svg\" height=\"24px\"viewBox=\"0 0 24 24\"\n",
              "       width=\"24px\">\n",
              "    <path d=\"M0 0h24v24H0V0z\" fill=\"none\"/>\n",
              "    <path d=\"M18.56 5.44l.94 2.06.94-2.06 2.06-.94-2.06-.94-.94-2.06-.94 2.06-2.06.94zm-11 1L8.5 8.5l.94-2.06 2.06-.94-2.06-.94L8.5 2.5l-.94 2.06-2.06.94zm10 10l.94 2.06.94-2.06 2.06-.94-2.06-.94-.94-2.06-.94 2.06-2.06.94z\"/><path d=\"M17.41 7.96l-1.37-1.37c-.4-.4-.92-.59-1.43-.59-.52 0-1.04.2-1.43.59L10.3 9.45l-7.72 7.72c-.78.78-.78 2.05 0 2.83L4 21.41c.39.39.9.59 1.41.59.51 0 1.02-.2 1.41-.59l7.78-7.78 2.81-2.81c.8-.78.8-2.07 0-2.86zM5.41 20L4 18.59l7.72-7.72 1.47 1.35L5.41 20z\"/>\n",
              "  </svg>\n",
              "      </button>\n",
              "      \n",
              "  <style>\n",
              "    .colab-df-container {\n",
              "      display:flex;\n",
              "      flex-wrap:wrap;\n",
              "      gap: 12px;\n",
              "    }\n",
              "\n",
              "    .colab-df-convert {\n",
              "      background-color: #E8F0FE;\n",
              "      border: none;\n",
              "      border-radius: 50%;\n",
              "      cursor: pointer;\n",
              "      display: none;\n",
              "      fill: #1967D2;\n",
              "      height: 32px;\n",
              "      padding: 0 0 0 0;\n",
              "      width: 32px;\n",
              "    }\n",
              "\n",
              "    .colab-df-convert:hover {\n",
              "      background-color: #E2EBFA;\n",
              "      box-shadow: 0px 1px 2px rgba(60, 64, 67, 0.3), 0px 1px 3px 1px rgba(60, 64, 67, 0.15);\n",
              "      fill: #174EA6;\n",
              "    }\n",
              "\n",
              "    [theme=dark] .colab-df-convert {\n",
              "      background-color: #3B4455;\n",
              "      fill: #D2E3FC;\n",
              "    }\n",
              "\n",
              "    [theme=dark] .colab-df-convert:hover {\n",
              "      background-color: #434B5C;\n",
              "      box-shadow: 0px 1px 3px 1px rgba(0, 0, 0, 0.15);\n",
              "      filter: drop-shadow(0px 1px 2px rgba(0, 0, 0, 0.3));\n",
              "      fill: #FFFFFF;\n",
              "    }\n",
              "  </style>\n",
              "\n",
              "      <script>\n",
              "        const buttonEl =\n",
              "          document.querySelector('#df-61a2043a-5369-4ee8-8981-21a1f2674c37 button.colab-df-convert');\n",
              "        buttonEl.style.display =\n",
              "          google.colab.kernel.accessAllowed ? 'block' : 'none';\n",
              "\n",
              "        async function convertToInteractive(key) {\n",
              "          const element = document.querySelector('#df-61a2043a-5369-4ee8-8981-21a1f2674c37');\n",
              "          const dataTable =\n",
              "            await google.colab.kernel.invokeFunction('convertToInteractive',\n",
              "                                                     [key], {});\n",
              "          if (!dataTable) return;\n",
              "\n",
              "          const docLinkHtml = 'Like what you see? Visit the ' +\n",
              "            '<a target=\"_blank\" href=https://colab.research.google.com/notebooks/data_table.ipynb>data table notebook</a>'\n",
              "            + ' to learn more about interactive tables.';\n",
              "          element.innerHTML = '';\n",
              "          dataTable['output_type'] = 'display_data';\n",
              "          await google.colab.output.renderOutput(dataTable, element);\n",
              "          const docLink = document.createElement('div');\n",
              "          docLink.innerHTML = docLinkHtml;\n",
              "          element.appendChild(docLink);\n",
              "        }\n",
              "      </script>\n",
              "    </div>\n",
              "  </div>\n",
              "  "
            ]
          },
          "metadata": {},
          "execution_count": 39
        }
      ],
      "source": [
        "df[['App','Installs','Category']].sort_values(by='Installs',ascending=False).head(11).reset_index(drop=True).drop_duplicates()"
      ]
    },
    {
      "cell_type": "markdown",
      "id": "942f6b72",
      "metadata": {
        "papermill": {
          "duration": 0.022665,
          "end_time": "2022-06-19T09:09:46.668089",
          "exception": false,
          "start_time": "2022-06-19T09:09:46.645424",
          "status": "completed"
        },
        "tags": [],
        "id": "942f6b72"
      },
      "source": [
        "Most reviewed Apps "
      ]
    },
    {
      "cell_type": "code",
      "execution_count": 40,
      "id": "8601f11c",
      "metadata": {
        "execution": {
          "iopub.execute_input": "2022-06-19T09:09:46.716527Z",
          "iopub.status.busy": "2022-06-19T09:09:46.715877Z",
          "iopub.status.idle": "2022-06-19T09:09:46.732192Z",
          "shell.execute_reply": "2022-06-19T09:09:46.731428Z"
        },
        "papermill": {
          "duration": 0.042977,
          "end_time": "2022-06-19T09:09:46.734279",
          "exception": false,
          "start_time": "2022-06-19T09:09:46.691302",
          "status": "completed"
        },
        "tags": [],
        "colab": {
          "base_uri": "https://localhost:8080/",
          "height": 300
        },
        "id": "8601f11c",
        "outputId": "3ca0ecc0-51e9-48cf-f8b1-855517ec34ae"
      },
      "outputs": [
        {
          "output_type": "execute_result",
          "data": {
            "text/plain": [
              "                                        App   Reviews       Category\n",
              "0                                  Facebook  78158306         SOCIAL\n",
              "1                        WhatsApp Messenger  69119316  COMMUNICATION\n",
              "2                                 Instagram  66577446         SOCIAL\n",
              "3  Messenger – Text and Video Chat for Free  56646578  COMMUNICATION\n",
              "4                            Clash of Clans  44893888           GAME\n",
              "5   Clean Master- Space Cleaner & Antivirus  42916526          TOOLS\n",
              "6                            Subway Surfers  27725352           GAME\n",
              "7                                   YouTube  25655305  VIDEO_PLAYERS"
            ],
            "text/html": [
              "\n",
              "  <div id=\"df-b942b335-5789-4e24-92ea-a9a32d6e18f4\">\n",
              "    <div class=\"colab-df-container\">\n",
              "      <div>\n",
              "<style scoped>\n",
              "    .dataframe tbody tr th:only-of-type {\n",
              "        vertical-align: middle;\n",
              "    }\n",
              "\n",
              "    .dataframe tbody tr th {\n",
              "        vertical-align: top;\n",
              "    }\n",
              "\n",
              "    .dataframe thead th {\n",
              "        text-align: right;\n",
              "    }\n",
              "</style>\n",
              "<table border=\"1\" class=\"dataframe\">\n",
              "  <thead>\n",
              "    <tr style=\"text-align: right;\">\n",
              "      <th></th>\n",
              "      <th>App</th>\n",
              "      <th>Reviews</th>\n",
              "      <th>Category</th>\n",
              "    </tr>\n",
              "  </thead>\n",
              "  <tbody>\n",
              "    <tr>\n",
              "      <th>0</th>\n",
              "      <td>Facebook</td>\n",
              "      <td>78158306</td>\n",
              "      <td>SOCIAL</td>\n",
              "    </tr>\n",
              "    <tr>\n",
              "      <th>1</th>\n",
              "      <td>WhatsApp Messenger</td>\n",
              "      <td>69119316</td>\n",
              "      <td>COMMUNICATION</td>\n",
              "    </tr>\n",
              "    <tr>\n",
              "      <th>2</th>\n",
              "      <td>Instagram</td>\n",
              "      <td>66577446</td>\n",
              "      <td>SOCIAL</td>\n",
              "    </tr>\n",
              "    <tr>\n",
              "      <th>3</th>\n",
              "      <td>Messenger – Text and Video Chat for Free</td>\n",
              "      <td>56646578</td>\n",
              "      <td>COMMUNICATION</td>\n",
              "    </tr>\n",
              "    <tr>\n",
              "      <th>4</th>\n",
              "      <td>Clash of Clans</td>\n",
              "      <td>44893888</td>\n",
              "      <td>GAME</td>\n",
              "    </tr>\n",
              "    <tr>\n",
              "      <th>5</th>\n",
              "      <td>Clean Master- Space Cleaner &amp; Antivirus</td>\n",
              "      <td>42916526</td>\n",
              "      <td>TOOLS</td>\n",
              "    </tr>\n",
              "    <tr>\n",
              "      <th>6</th>\n",
              "      <td>Subway Surfers</td>\n",
              "      <td>27725352</td>\n",
              "      <td>GAME</td>\n",
              "    </tr>\n",
              "    <tr>\n",
              "      <th>7</th>\n",
              "      <td>YouTube</td>\n",
              "      <td>25655305</td>\n",
              "      <td>VIDEO_PLAYERS</td>\n",
              "    </tr>\n",
              "  </tbody>\n",
              "</table>\n",
              "</div>\n",
              "      <button class=\"colab-df-convert\" onclick=\"convertToInteractive('df-b942b335-5789-4e24-92ea-a9a32d6e18f4')\"\n",
              "              title=\"Convert this dataframe to an interactive table.\"\n",
              "              style=\"display:none;\">\n",
              "        \n",
              "  <svg xmlns=\"http://www.w3.org/2000/svg\" height=\"24px\"viewBox=\"0 0 24 24\"\n",
              "       width=\"24px\">\n",
              "    <path d=\"M0 0h24v24H0V0z\" fill=\"none\"/>\n",
              "    <path d=\"M18.56 5.44l.94 2.06.94-2.06 2.06-.94-2.06-.94-.94-2.06-.94 2.06-2.06.94zm-11 1L8.5 8.5l.94-2.06 2.06-.94-2.06-.94L8.5 2.5l-.94 2.06-2.06.94zm10 10l.94 2.06.94-2.06 2.06-.94-2.06-.94-.94-2.06-.94 2.06-2.06.94z\"/><path d=\"M17.41 7.96l-1.37-1.37c-.4-.4-.92-.59-1.43-.59-.52 0-1.04.2-1.43.59L10.3 9.45l-7.72 7.72c-.78.78-.78 2.05 0 2.83L4 21.41c.39.39.9.59 1.41.59.51 0 1.02-.2 1.41-.59l7.78-7.78 2.81-2.81c.8-.78.8-2.07 0-2.86zM5.41 20L4 18.59l7.72-7.72 1.47 1.35L5.41 20z\"/>\n",
              "  </svg>\n",
              "      </button>\n",
              "      \n",
              "  <style>\n",
              "    .colab-df-container {\n",
              "      display:flex;\n",
              "      flex-wrap:wrap;\n",
              "      gap: 12px;\n",
              "    }\n",
              "\n",
              "    .colab-df-convert {\n",
              "      background-color: #E8F0FE;\n",
              "      border: none;\n",
              "      border-radius: 50%;\n",
              "      cursor: pointer;\n",
              "      display: none;\n",
              "      fill: #1967D2;\n",
              "      height: 32px;\n",
              "      padding: 0 0 0 0;\n",
              "      width: 32px;\n",
              "    }\n",
              "\n",
              "    .colab-df-convert:hover {\n",
              "      background-color: #E2EBFA;\n",
              "      box-shadow: 0px 1px 2px rgba(60, 64, 67, 0.3), 0px 1px 3px 1px rgba(60, 64, 67, 0.15);\n",
              "      fill: #174EA6;\n",
              "    }\n",
              "\n",
              "    [theme=dark] .colab-df-convert {\n",
              "      background-color: #3B4455;\n",
              "      fill: #D2E3FC;\n",
              "    }\n",
              "\n",
              "    [theme=dark] .colab-df-convert:hover {\n",
              "      background-color: #434B5C;\n",
              "      box-shadow: 0px 1px 3px 1px rgba(0, 0, 0, 0.15);\n",
              "      filter: drop-shadow(0px 1px 2px rgba(0, 0, 0, 0.3));\n",
              "      fill: #FFFFFF;\n",
              "    }\n",
              "  </style>\n",
              "\n",
              "      <script>\n",
              "        const buttonEl =\n",
              "          document.querySelector('#df-b942b335-5789-4e24-92ea-a9a32d6e18f4 button.colab-df-convert');\n",
              "        buttonEl.style.display =\n",
              "          google.colab.kernel.accessAllowed ? 'block' : 'none';\n",
              "\n",
              "        async function convertToInteractive(key) {\n",
              "          const element = document.querySelector('#df-b942b335-5789-4e24-92ea-a9a32d6e18f4');\n",
              "          const dataTable =\n",
              "            await google.colab.kernel.invokeFunction('convertToInteractive',\n",
              "                                                     [key], {});\n",
              "          if (!dataTable) return;\n",
              "\n",
              "          const docLinkHtml = 'Like what you see? Visit the ' +\n",
              "            '<a target=\"_blank\" href=https://colab.research.google.com/notebooks/data_table.ipynb>data table notebook</a>'\n",
              "            + ' to learn more about interactive tables.';\n",
              "          element.innerHTML = '';\n",
              "          dataTable['output_type'] = 'display_data';\n",
              "          await google.colab.output.renderOutput(dataTable, element);\n",
              "          const docLink = document.createElement('div');\n",
              "          docLink.innerHTML = docLinkHtml;\n",
              "          element.appendChild(docLink);\n",
              "        }\n",
              "      </script>\n",
              "    </div>\n",
              "  </div>\n",
              "  "
            ]
          },
          "metadata": {},
          "execution_count": 40
        }
      ],
      "source": [
        "df[['App','Reviews','Category']].sort_values(by='Reviews',ascending=False).reset_index(drop=True).head(20).drop_duplicates('App').reset_index(drop=True)"
      ]
    },
    {
      "cell_type": "markdown",
      "id": "d9f3ac3b",
      "metadata": {
        "papermill": {
          "duration": 0.023727,
          "end_time": "2022-06-19T09:09:46.781749",
          "exception": false,
          "start_time": "2022-06-19T09:09:46.758022",
          "status": "completed"
        },
        "tags": [],
        "id": "d9f3ac3b"
      },
      "source": [
        "Most Expensive and useless apps "
      ]
    },
    {
      "cell_type": "code",
      "execution_count": 41,
      "id": "9399f084",
      "metadata": {
        "execution": {
          "iopub.execute_input": "2022-06-19T09:09:46.832000Z",
          "iopub.status.busy": "2022-06-19T09:09:46.831360Z",
          "iopub.status.idle": "2022-06-19T09:09:46.845192Z",
          "shell.execute_reply": "2022-06-19T09:09:46.844282Z"
        },
        "papermill": {
          "duration": 0.041436,
          "end_time": "2022-06-19T09:09:46.847158",
          "exception": false,
          "start_time": "2022-06-19T09:09:46.805722",
          "status": "completed"
        },
        "tags": [],
        "colab": {
          "base_uri": "https://localhost:8080/",
          "height": 363
        },
        "id": "9399f084",
        "outputId": "165e94e5-dc68-412b-b2e6-7ca5e4633848"
      },
      "outputs": [
        {
          "output_type": "execute_result",
          "data": {
            "text/plain": [
              "                              App   Price\n",
              "0        I'm Rich - Trump Edition  400.00\n",
              "1  I am rich (Most expensive app)  399.99\n",
              "2               I Am Rich Premium  399.99\n",
              "3              I am rich(premium)  399.99\n",
              "4          most expensive app (H)  399.99\n",
              "5                  I am Rich Plus  399.99\n",
              "6                   I Am Rich Pro  399.99\n",
              "7                       I am rich  399.99\n",
              "8                       I am Rich  399.99\n",
              "9              I AM RICH PRO PLUS  399.99"
            ],
            "text/html": [
              "\n",
              "  <div id=\"df-17a9b720-95b6-488b-a756-a4a7d9ed338f\">\n",
              "    <div class=\"colab-df-container\">\n",
              "      <div>\n",
              "<style scoped>\n",
              "    .dataframe tbody tr th:only-of-type {\n",
              "        vertical-align: middle;\n",
              "    }\n",
              "\n",
              "    .dataframe tbody tr th {\n",
              "        vertical-align: top;\n",
              "    }\n",
              "\n",
              "    .dataframe thead th {\n",
              "        text-align: right;\n",
              "    }\n",
              "</style>\n",
              "<table border=\"1\" class=\"dataframe\">\n",
              "  <thead>\n",
              "    <tr style=\"text-align: right;\">\n",
              "      <th></th>\n",
              "      <th>App</th>\n",
              "      <th>Price</th>\n",
              "    </tr>\n",
              "  </thead>\n",
              "  <tbody>\n",
              "    <tr>\n",
              "      <th>0</th>\n",
              "      <td>I'm Rich - Trump Edition</td>\n",
              "      <td>400.00</td>\n",
              "    </tr>\n",
              "    <tr>\n",
              "      <th>1</th>\n",
              "      <td>I am rich (Most expensive app)</td>\n",
              "      <td>399.99</td>\n",
              "    </tr>\n",
              "    <tr>\n",
              "      <th>2</th>\n",
              "      <td>I Am Rich Premium</td>\n",
              "      <td>399.99</td>\n",
              "    </tr>\n",
              "    <tr>\n",
              "      <th>3</th>\n",
              "      <td>I am rich(premium)</td>\n",
              "      <td>399.99</td>\n",
              "    </tr>\n",
              "    <tr>\n",
              "      <th>4</th>\n",
              "      <td>most expensive app (H)</td>\n",
              "      <td>399.99</td>\n",
              "    </tr>\n",
              "    <tr>\n",
              "      <th>5</th>\n",
              "      <td>I am Rich Plus</td>\n",
              "      <td>399.99</td>\n",
              "    </tr>\n",
              "    <tr>\n",
              "      <th>6</th>\n",
              "      <td>I Am Rich Pro</td>\n",
              "      <td>399.99</td>\n",
              "    </tr>\n",
              "    <tr>\n",
              "      <th>7</th>\n",
              "      <td>I am rich</td>\n",
              "      <td>399.99</td>\n",
              "    </tr>\n",
              "    <tr>\n",
              "      <th>8</th>\n",
              "      <td>I am Rich</td>\n",
              "      <td>399.99</td>\n",
              "    </tr>\n",
              "    <tr>\n",
              "      <th>9</th>\n",
              "      <td>I AM RICH PRO PLUS</td>\n",
              "      <td>399.99</td>\n",
              "    </tr>\n",
              "  </tbody>\n",
              "</table>\n",
              "</div>\n",
              "      <button class=\"colab-df-convert\" onclick=\"convertToInteractive('df-17a9b720-95b6-488b-a756-a4a7d9ed338f')\"\n",
              "              title=\"Convert this dataframe to an interactive table.\"\n",
              "              style=\"display:none;\">\n",
              "        \n",
              "  <svg xmlns=\"http://www.w3.org/2000/svg\" height=\"24px\"viewBox=\"0 0 24 24\"\n",
              "       width=\"24px\">\n",
              "    <path d=\"M0 0h24v24H0V0z\" fill=\"none\"/>\n",
              "    <path d=\"M18.56 5.44l.94 2.06.94-2.06 2.06-.94-2.06-.94-.94-2.06-.94 2.06-2.06.94zm-11 1L8.5 8.5l.94-2.06 2.06-.94-2.06-.94L8.5 2.5l-.94 2.06-2.06.94zm10 10l.94 2.06.94-2.06 2.06-.94-2.06-.94-.94-2.06-.94 2.06-2.06.94z\"/><path d=\"M17.41 7.96l-1.37-1.37c-.4-.4-.92-.59-1.43-.59-.52 0-1.04.2-1.43.59L10.3 9.45l-7.72 7.72c-.78.78-.78 2.05 0 2.83L4 21.41c.39.39.9.59 1.41.59.51 0 1.02-.2 1.41-.59l7.78-7.78 2.81-2.81c.8-.78.8-2.07 0-2.86zM5.41 20L4 18.59l7.72-7.72 1.47 1.35L5.41 20z\"/>\n",
              "  </svg>\n",
              "      </button>\n",
              "      \n",
              "  <style>\n",
              "    .colab-df-container {\n",
              "      display:flex;\n",
              "      flex-wrap:wrap;\n",
              "      gap: 12px;\n",
              "    }\n",
              "\n",
              "    .colab-df-convert {\n",
              "      background-color: #E8F0FE;\n",
              "      border: none;\n",
              "      border-radius: 50%;\n",
              "      cursor: pointer;\n",
              "      display: none;\n",
              "      fill: #1967D2;\n",
              "      height: 32px;\n",
              "      padding: 0 0 0 0;\n",
              "      width: 32px;\n",
              "    }\n",
              "\n",
              "    .colab-df-convert:hover {\n",
              "      background-color: #E2EBFA;\n",
              "      box-shadow: 0px 1px 2px rgba(60, 64, 67, 0.3), 0px 1px 3px 1px rgba(60, 64, 67, 0.15);\n",
              "      fill: #174EA6;\n",
              "    }\n",
              "\n",
              "    [theme=dark] .colab-df-convert {\n",
              "      background-color: #3B4455;\n",
              "      fill: #D2E3FC;\n",
              "    }\n",
              "\n",
              "    [theme=dark] .colab-df-convert:hover {\n",
              "      background-color: #434B5C;\n",
              "      box-shadow: 0px 1px 3px 1px rgba(0, 0, 0, 0.15);\n",
              "      filter: drop-shadow(0px 1px 2px rgba(0, 0, 0, 0.3));\n",
              "      fill: #FFFFFF;\n",
              "    }\n",
              "  </style>\n",
              "\n",
              "      <script>\n",
              "        const buttonEl =\n",
              "          document.querySelector('#df-17a9b720-95b6-488b-a756-a4a7d9ed338f button.colab-df-convert');\n",
              "        buttonEl.style.display =\n",
              "          google.colab.kernel.accessAllowed ? 'block' : 'none';\n",
              "\n",
              "        async function convertToInteractive(key) {\n",
              "          const element = document.querySelector('#df-17a9b720-95b6-488b-a756-a4a7d9ed338f');\n",
              "          const dataTable =\n",
              "            await google.colab.kernel.invokeFunction('convertToInteractive',\n",
              "                                                     [key], {});\n",
              "          if (!dataTable) return;\n",
              "\n",
              "          const docLinkHtml = 'Like what you see? Visit the ' +\n",
              "            '<a target=\"_blank\" href=https://colab.research.google.com/notebooks/data_table.ipynb>data table notebook</a>'\n",
              "            + ' to learn more about interactive tables.';\n",
              "          element.innerHTML = '';\n",
              "          dataTable['output_type'] = 'display_data';\n",
              "          await google.colab.output.renderOutput(dataTable, element);\n",
              "          const docLink = document.createElement('div');\n",
              "          docLink.innerHTML = docLinkHtml;\n",
              "          element.appendChild(docLink);\n",
              "        }\n",
              "      </script>\n",
              "    </div>\n",
              "  </div>\n",
              "  "
            ]
          },
          "metadata": {},
          "execution_count": 41
        }
      ],
      "source": [
        "df[['App','Price']].sort_values(by='Price',ascending=False).reset_index(drop=True).head(10)"
      ]
    }
  ],
  "metadata": {
    "kernelspec": {
      "display_name": "Python 3",
      "language": "python",
      "name": "python3"
    },
    "language_info": {
      "codemirror_mode": {
        "name": "ipython",
        "version": 3
      },
      "file_extension": ".py",
      "mimetype": "text/x-python",
      "name": "python",
      "nbconvert_exporter": "python",
      "pygments_lexer": "ipython3",
      "version": "3.7.12"
    },
    "papermill": {
      "default_parameters": {},
      "duration": 24.954143,
      "end_time": "2022-06-19T09:09:47.740833",
      "environment_variables": {},
      "exception": null,
      "input_path": "__notebook__.ipynb",
      "output_path": "__notebook__.ipynb",
      "parameters": {},
      "start_time": "2022-06-19T09:09:22.786690",
      "version": "2.3.4"
    },
    "colab": {
      "name": "Play Store App Analysis.ipynb",
      "provenance": []
    }
  },
  "nbformat": 4,
  "nbformat_minor": 5
}